{
 "cells": [
  {
   "cell_type": "markdown",
   "metadata": {},
   "source": [
    "<span style=\"font-size:2em;\">[Kaggle competition: IEEE-CIS Fraud Detection](https://www.kaggle.com/c/ieee-fraud-detection/overview) </span>\n",
    "\n",
    "Can we detect fraud from customer transactions? Lessons from my first competition\n",
    "***\n",
    "**<span style=\"font-size:1.5em;\">Motivation</span>**\n"
   ]
  },
  {
   "cell_type": "markdown",
   "metadata": {},
   "source": [
    "After having spent a lot of time taking data science classes, I was eager to start practicing on a real dataset and to enter a Kaggle competition. I am thankful that I did because in the process, I learned a lot of things that aren't covered in those classes. Techniques like stratified cross validation, increasing the memory efficiency of my dataset, model stacking and blending, were all new to me.   \n",
    "\n",
    "I also applied techniques learnt in Fastai's Intro to machine learning course which I'll comment on throughout the notebook. I highly recommend this course if you are learning like me. \n",
    "\n",
    "Even though my ranking was nothing impressive (top 60%), I now understand what it takes to create a state of the art kernel and have learned the tools to do so intelligently and efficiently. \n",
    "\n",
    "I am sharing my solution, methodology and a bunch of efficient helper functions as a way to anchor these learnings and for beginners who want to get better."
   ]
  },
  {
   "cell_type": "markdown",
   "metadata": {},
   "source": [
    "# About this dataset"
   ]
  },
  {
   "cell_type": "markdown",
   "metadata": {},
   "source": [
    "In this competition we are predicting the probability that an online transaction is fraudulent, as denoted by the binary target `isFraud`. The data comes from [Vesta Corporation's](https://trustvesta.com/) real-world e-commerce transactions and contains a wide range of features from device type to product features.\n",
    "\n",
    "The data is broken into two files: identity and transaction, which are joined by `TransactionID`.\n",
    "\n",
    "> Note: Not all transactions have corresponding identity information.\n",
    "\n",
    "\n",
    "\n",
    "**Evaluation**\n",
    "\n",
    "Submissions are evaluated on area under the ROC curve between the predicted probability and the observed target.\n"
   ]
  },
  {
   "cell_type": "markdown",
   "metadata": {},
   "source": [
    "# Methodology"
   ]
  },
  {
   "cell_type": "markdown",
   "metadata": {},
   "source": [
    "**1. Quick cleaning and modeling**.\n",
    "When starting off with a dataset with as many columns as this one (over 400), we'll want to quickly run it through an ensemble learner, forgoing any exploratory data analysis and feature engineering at the beginning. Once the model is fit to the data, we'll have a look at the features which are the most important using LGBM's feature_importances() method. \n",
    "This will allow us to concentrate our efforts on only the most important features instead of spending time looking at features with little to no predictive power. \n",
    "\n",
    "**2. Understand the data with EDA**.\n",
    "Once we've filtered our columns, we'll look at the ones with the highest importance. The findings in this analysis will guide our feature engineering efforts in the next section. Some questions we'll want to answer:\n",
    "- How are the top features related to our target variable? \n",
    "- What are their distributions like if we plot them with histograms and countplots?  \n",
    "- What's their relationship with other important features? Do they seem to be related?\n",
    "- Are there any features that we can split into multiple columns or simplify in any way?\n",
    "- etc.\n",
    "\n",
    "**3. Feature engineering**.\n",
    "Once we understand our data, we can start creating new columns by splitting up current ones, transforming them to change their scale or looking at their mean, combining new ones to create interactions, and much more. \n",
    "\n",
    "**4. Train different models, fit them to the training data with cross validation, and perform model stacking and/or blending**.\n",
    "The models I tested were RandomForests, XGBoost, and LightGBM. \n",
    "I tried several cross validation techniques such as Stratification and TimeSeriesSplit, neither of which beat my single model LGBM, but it was a great learning experience to code it. \n",
    "I discovered several powerful ensemble techniques which are used by top Kaggle contenders: stacking, blending, averaging our least correlated submissions, etc. I wasn't able to increase my performance much using these techniques, but again I learned a lot by trying. The performance wasn't great because I didn't create enough high performing differentiated models that I would stack together. After a little bit of testing, I realized that this would have consumed a lot of time, for maybe a slight increase in performance. My goal with this competition was to get an overview of how a competition works, not spend weeks fine tuning a few models. I am convinced that with more time I could have gotten better results. \n",
    "\n",
    "Here is the high-level summary of my different submissions:\n",
    "\n",
    "- Base features with stock LGBM: 0.8934\n",
    "- Add LGBM hyperparameter tuning: 0.9337 (+0.0403)\n",
    "- Add feature selection: 0.9350 (+0.0013)\n",
    "- Use TimeSeriesSplit crossvalidation: 0.9241 (-0.0109)\n",
    "- Use Stratified crossvalidation: 0.9300 (-0.0050 vs top score)\n",
    "- Stack 3 tree based models for level 1, LGBM for level 2: 0.8793 (-0.0557 vs top score) (base models weren't optimized which explains the poor performance)\n",
    "- Use a weighted average on my top submissions: 0.9365 (+0.0015) - Best and final result. \n",
    "\n",
    "---\n",
    "📣**Insights**\n",
    "\n",
    "Note: I'll be supplementing this notebook with an 📣**Insights** section where I share techniques I learned from Fastai course as well best practices collected from reading Kaggle discussions and kernels. \n",
    "\n",
    "---"
   ]
  },
  {
   "cell_type": "markdown",
   "metadata": {},
   "source": [
    "# Importing the libraries and reading the dataset"
   ]
  },
  {
   "cell_type": "code",
   "execution_count": 262,
   "metadata": {},
   "outputs": [
    {
     "name": "stdout",
     "output_type": "stream",
     "text": [
      "The autoreload extension is already loaded. To reload it, use:\n",
      "  %reload_ext autoreload\n"
     ]
    }
   ],
   "source": [
    "%load_ext autoreload\n",
    "%autoreload 2\n",
    "\n",
    "%matplotlib inline"
   ]
  },
  {
   "cell_type": "code",
   "execution_count": 263,
   "metadata": {},
   "outputs": [],
   "source": [
    "import pandas as pd\n",
    "import numpy as np\n",
    "from sklearn.ensemble import RandomForestClassifier, GradientBoostingClassifier, ExtraTreesClassifier\n",
    "import lightgbm as lgb\n",
    "import xgboost as xgb\n",
    "from sklearn.ensemble import forest\n",
    "import os\n",
    "import re\n",
    "import feather\n",
    "from pandas import get_dummies\n",
    "from pandas.api.types import is_string_dtype, is_numeric_dtype, is_categorical_dtype\n",
    "import matplotlib.pyplot as plt\n",
    "import seaborn as sns\n",
    "from scipy.cluster import hierarchy as hc\n",
    "import scipy\n",
    "from sklearn.model_selection import RandomizedSearchCV, GridSearchCV\n",
    "from sklearn.model_selection import KFold, TimeSeriesSplit, StratifiedKFold\n",
    "from sklearn.metrics import roc_curve, roc_auc_score, auc"
   ]
  },
  {
   "cell_type": "markdown",
   "metadata": {},
   "source": [
    "## Loading the data"
   ]
  },
  {
   "cell_type": "markdown",
   "metadata": {},
   "source": [
    "---\n",
    "📣 **Insights**:\n",
    "- Putting a exclamation point at the beginning of a cell allows us to write command line code. I used this to install new libraries when needed straight from the notebook (such as feather) and for other useful commands like `ls`.\n",
    "- `display_all` function is copy-pasted from Fastai. Very practical for when we're visually assessing our dataframes since it allows us to view as many columns and rows of a DataFrame as we want. I used it all the time throughout this project.\n",
    "---"
   ]
  },
  {
   "cell_type": "code",
   "execution_count": 264,
   "metadata": {},
   "outputs": [
    {
     "name": "stdout",
     "output_type": "stream",
     "text": [
      "submission_logs.txt\n",
      "test_identity.csv\n",
      "test_transaction.csv\n",
      "train_identity.csv\n",
      "train_transaction.csv\n"
     ]
    }
   ],
   "source": [
    "# Path to our data folder\n",
    "PATH = \"data/\"\n",
    "\n",
    "# Show the contents of our data folder\n",
    "!ls \"data\""
   ]
  },
  {
   "cell_type": "code",
   "execution_count": 265,
   "metadata": {},
   "outputs": [],
   "source": [
    "# load training_set\n",
    "df_id_train = pd.read_csv(f'{PATH}train_identity.csv')\n",
    "df_trans_train = pd.read_csv(f'{PATH}train_transaction.csv')\n",
    "\n",
    "# load test_set\n",
    "df_id_test = pd.read_csv(f'{PATH}test_identity.csv')\n",
    "df_trans_test = pd.read_csv(f'{PATH}test_transaction.csv')"
   ]
  },
  {
   "cell_type": "code",
   "execution_count": 266,
   "metadata": {},
   "outputs": [],
   "source": [
    "# Smaller helped function for visualization\n",
    "def display_all(df):\n",
    "    '''\n",
    "    Small helper function to allow us to disaply 1000 rows and columns. This will come in handy \n",
    "    because we are dealing with a lot of columns\n",
    "    '''\n",
    "    with pd.option_context(\"display.max_rows\", 1000, \"display.max_columns\", 1000): \n",
    "        display(df)"
   ]
  },
  {
   "cell_type": "markdown",
   "metadata": {},
   "source": [
    "## Merge our dataframes"
   ]
  },
  {
   "cell_type": "code",
   "execution_count": 267,
   "metadata": {},
   "outputs": [],
   "source": [
    "df_train = df_trans_train.merge(df_id_train, on='TransactionID', how='left')\n",
    "df_test = df_trans_test.merge(df_id_test, on='TransactionID', how='left')"
   ]
  },
  {
   "cell_type": "code",
   "execution_count": 268,
   "metadata": {},
   "outputs": [],
   "source": [
    "# Set 'TransactionID' as index\n",
    "df_train = df_train.set_index('TransactionID')\n",
    "df_test = df_test.set_index('TransactionID')"
   ]
  },
  {
   "cell_type": "code",
   "execution_count": 269,
   "metadata": {},
   "outputs": [],
   "source": [
    "# Create a copy of the original datasets - ones without any changes\n",
    "df_train_og = df_train.copy()\n",
    "df_test_og = df_test.copy()"
   ]
  },
  {
   "cell_type": "code",
   "execution_count": 270,
   "metadata": {},
   "outputs": [
    {
     "data": {
      "text/plain": [
       "((590540, 433), (506691, 432))"
      ]
     },
     "execution_count": 270,
     "metadata": {},
     "output_type": "execute_result"
    }
   ],
   "source": [
    "# Sanity check for the merge\n",
    "df_train.shape, df_test.shape"
   ]
  },
  {
   "cell_type": "markdown",
   "metadata": {},
   "source": [
    "# Quick Cleaning and Modeling"
   ]
  },
  {
   "cell_type": "markdown",
   "metadata": {},
   "source": [
    "## Convert strings to pandas categories"
   ]
  },
  {
   "cell_type": "markdown",
   "metadata": {},
   "source": [
    "A lot of our variables are currently stored as strings, which is inefficient, and doesn't provide the numeric coding required to run our models. Therefore, we create `train_cats` function to convert strings to pandas categories. This will also allow us to OneHotEncode some of these categories later on. \n",
    "\n",
    "**Important note regarding categories**: We need to make sure that the order of our categories are the same for both our training and testing set. Category codes in our training set may differ from our test set if we simply apply `train_cats` to both.  \n",
    "\n",
    "**Solution**: We'll create a function `apply_cats` which does the same thing as `train_cats` but will additionally use `df_train` as a template for the category codes. This ensures the order of our categories in both DataFrames are the same.  \n",
    "\n",
    "---\n",
    "📣**Insights**: \n",
    "\n",
    "`train_cats` and `apply_cats` are very useful functions taken from Fastai. Using them allows us to use all of the columns of our dataset, instead of having to discard them because they wouldn't be in the right format. We therefore have more information to work with. \n",
    "___"
   ]
  },
  {
   "cell_type": "code",
   "execution_count": 271,
   "metadata": {},
   "outputs": [],
   "source": [
    "def train_cats(df):\n",
    "    for n,c in df.items():\n",
    "        if is_string_dtype(c): df[n] = c.astype('category').cat.as_ordered()"
   ]
  },
  {
   "cell_type": "code",
   "execution_count": 272,
   "metadata": {},
   "outputs": [],
   "source": [
    "def apply_cats(df):\n",
    "    for n,c in df.items():\n",
    "        if (n in df_train.columns) and (df_train[n].dtype.name=='category'):\n",
    "            df[n] = c.astype('category').cat.as_ordered() # same code as train_cats(df)\n",
    "            df[n].cat.set_categories(df_train[n].cat.categories, ordered=True, inplace=True) # Use df_train as a template"
   ]
  },
  {
   "cell_type": "code",
   "execution_count": 273,
   "metadata": {},
   "outputs": [],
   "source": [
    "train_cats(df_train)\n",
    "apply_cats(df_test)"
   ]
  },
  {
   "cell_type": "markdown",
   "metadata": {},
   "source": [
    "## Clean NaN values, apply OneHotEncoding and create new columns based on the NaN values"
   ]
  },
  {
   "cell_type": "markdown",
   "metadata": {},
   "source": [
    "We'll apply the steps in the title using functions. These were taken from Fastai and slighty simplified for our purposes. Let's review them one by one. \n",
    "1. `numericalize`: Changes a categorical type column from text to its integer codes so that it can be used by our model.\n",
    "2. `fix_missing`: Impute missing data in a column of `df` with the median, and add a `{col_name}_na` column related to the NaN values. The column will show a `0` for rows that didn't have NaN values, and show a `1` if the data was missing.\n",
    "3. `proc_df`: Takes a data frame, splits off the response variable (y), and changes the df into an entirely numeric dataframe by calling `numericalize()` which converts the category columns to their matching category codes. For each column of df which is not in skip_flds nor in ignore_flds, NaN values are replaced by the median value of the column (using `fix_missing()`).\n",
    "    \n",
    "    Returns: [x, y, nas]\n",
    "        x: x is the transformed version of df. x will not have the response variable and is entirely numeric.\n",
    "        y: y is the response variable\n",
    "        nas: returns a dictionary of which NaNs it created, and the associated median."
   ]
  },
  {
   "cell_type": "code",
   "execution_count": 274,
   "metadata": {},
   "outputs": [],
   "source": [
    "def numericalize(df, col, name, max_n_cat):\n",
    "    '''\n",
    "    Details: If the column is not numeric, AND if max_n_cat is not specified OR if the number of categories \n",
    "             in the columns is <= max_n_cat, then we replace the column by its category codes\n",
    "    '''\n",
    "    if not is_numeric_dtype(col) and (max_n_cat is None or len(col.cat.categories)>max_n_cat):\n",
    "        df[name] = pd.Categorical(col).codes+1"
   ]
  },
  {
   "cell_type": "code",
   "execution_count": 275,
   "metadata": {},
   "outputs": [],
   "source": [
    "def fix_missing(df, col, name, na_dict):\n",
    "    '''\n",
    "    Details: If the column has null values or if we passed in a na_dict:\n",
    "             Then we create a new column [name+'_na'] indicating where the NaNs were\n",
    "             \n",
    "    '''\n",
    "    if is_numeric_dtype(col):\n",
    "        if pd.isnull(col).sum() or (name in na_dict):\n",
    "            df[name+'_na'] = pd.isnull(col)\n",
    "            filler = na_dict[name] if name in na_dict else col.median()\n",
    "            df[name] = col.fillna(filler)\n",
    "            na_dict[name] = filler\n",
    "    return na_dict"
   ]
  },
  {
   "cell_type": "code",
   "execution_count": 276,
   "metadata": {},
   "outputs": [],
   "source": [
    "def proc_df(df, y_fld=None, na_dict=None, max_n_cat=None):   \n",
    "    \n",
    "    df = df.copy()\n",
    "    \n",
    "    if y_fld is None:\n",
    "        y = None\n",
    "        y_fld = []\n",
    "    else:\n",
    "        if not is_numeric_dtype(df[y_fld]): df[y_fld] = pd.Categorical(df[y_fld]).codes\n",
    "        y = df[y_fld].values\n",
    "    df.drop(y_fld, axis=1, inplace=True)\n",
    "\n",
    "    if na_dict is None: na_dict = {}\n",
    "    else: na_dict = na_dict.copy()\n",
    "    na_dict_initial = na_dict.copy()\n",
    "    \n",
    "    # Call fix_missing() to replace NaN values by the median, and create new NaN columns\n",
    "    for n,c in df.items(): na_dict = fix_missing(df, c, n, na_dict)\n",
    "    if len(na_dict_initial.keys()) > 0:\n",
    "        df.drop([a + '_na' for a in list(set(na_dict.keys()) - set(na_dict_initial.keys()))], axis=1, inplace=True)\n",
    "        \n",
    "    # Apply numericalize() to change a column to it's category code\n",
    "    for n,c in df.items(): numericalize(df, c, n, max_n_cat)\n",
    "    df = pd.get_dummies(df, dummy_na=True) # get_dummie checks for everything that is still a category and OneHotEncodes\n",
    "    \n",
    "    res = [df, y, na_dict]\n",
    "\n",
    "    return res"
   ]
  },
  {
   "cell_type": "markdown",
   "metadata": {},
   "source": [
    "Let's call `proc_df` and pass the argument `max_n_cat=8` which will apply `get_dummies()` on category types that have 8 categories or less."
   ]
  },
  {
   "cell_type": "code",
   "execution_count": 277,
   "metadata": {},
   "outputs": [],
   "source": [
    "# Apply proc_df to transform our dataframe, remove NAs and create new columns with NAs\n",
    "df_train, y, nas = proc_df(df_train, 'isFraud', max_n_cat=8)"
   ]
  },
  {
   "cell_type": "code",
   "execution_count": 278,
   "metadata": {},
   "outputs": [],
   "source": [
    "# Apply proc_df to the test dataframe\n",
    "df_test, _, nas = proc_df(df_test, na_dict=nas, max_n_cat=8)"
   ]
  },
  {
   "cell_type": "code",
   "execution_count": 279,
   "metadata": {
    "scrolled": true
   },
   "outputs": [],
   "source": [
    "# Visual assessment of the result\n",
    "# display_all(df_train)"
   ]
  },
  {
   "cell_type": "markdown",
   "metadata": {},
   "source": [
    "---\n",
    "📣**Insights**: \n",
    "\n",
    "`proc_df`, `numericalize` and `fix_missing` allow us to use all columns in our dataframe for our model. We're also getting extra columns with potentially very good information: for each column that contained a NaN value, we are creating a new function telling us where the NaN value was. If these columns end up being useless, they will get cleaned afterwards. \n",
    "___\n",
    "\n",
    "With just very little effort, our dataframe is already ready to for training."
   ]
  },
  {
   "cell_type": "markdown",
   "metadata": {},
   "source": [
    "## Training and creating a validation set with timeseries data"
   ]
  },
  {
   "cell_type": "markdown",
   "metadata": {},
   "source": [
    "---\n",
    "📣**Insights**: \n",
    "\n",
    "1. In general, if we are dealing with timeseries dataset like this one, we want our validation set to be from a different time period than our training set. This is because we want to evaluate whether our model is good at prediction the future. For example, if we look at Kaggle's test dataset, the time periods are indeed different. This can be seen in the values of `TransactionDT` feature.   \n",
    "Therefore, we create the validation set with a sequential set of rows instead of picking random samples of our training set.  \n",
    "\n",
    "\n",
    "2. For large datasets, when finding the best hyperparameters and deciding which features to keep, we should first work on a sample of our dataframe so that the training time is reduced. This allows us to test more at a fraction of the time. Only once we think we have a good model should we can try it on the whole data set. \n",
    "___"
   ]
  },
  {
   "cell_type": "code",
   "execution_count": 137,
   "metadata": {},
   "outputs": [],
   "source": [
    "# temp y\n",
    "y = df_train_og['isFraud']"
   ]
  },
  {
   "cell_type": "markdown",
   "metadata": {},
   "source": [
    "**Training and validation set function on all the data**"
   ]
  },
  {
   "cell_type": "code",
   "execution_count": 280,
   "metadata": {},
   "outputs": [],
   "source": [
    "# Create a function that will split our training dataset. \n",
    "def split_vals(a, n):\n",
    "    return a[:n].copy(), a[n:].copy()"
   ]
  },
  {
   "cell_type": "markdown",
   "metadata": {},
   "source": [
    "**Sampling training and validation set function**"
   ]
  },
  {
   "cell_type": "code",
   "execution_count": 186,
   "metadata": {},
   "outputs": [],
   "source": [
    "# Create a function that will create a sample training and validation set \n",
    "def split_vals_sample(a, n, m):\n",
    "    return a[500000:500000+n].copy(), a[500000+n:500000+m].copy()"
   ]
  },
  {
   "cell_type": "code",
   "execution_count": 281,
   "metadata": {},
   "outputs": [
    {
     "name": "stdout",
     "output_type": "stream",
     "text": [
      "X_train: 500000, X_valid: 90540, y_train: 500000, y_valid: 90540\n"
     ]
    }
   ],
   "source": [
    "# Choose a large enough n\n",
    "n = 500_000\n",
    "X_train, X_valid = split_vals(df_train, n)\n",
    "y_train, y_valid = split_vals(y, n)\n",
    "raw_train, raw_valid = split_vals(df_train_og, n)\n",
    "\n",
    "print(F'X_train: {len(X_train)}, X_valid: {len(X_valid)}, y_train: {len(y_train)}, y_valid: {len(y_valid)}')"
   ]
  },
  {
   "cell_type": "markdown",
   "metadata": {},
   "source": [
    "# Base LGBM model and feature importance"
   ]
  },
  {
   "cell_type": "code",
   "execution_count": 284,
   "metadata": {},
   "outputs": [
    {
     "name": "stdout",
     "output_type": "stream",
     "text": [
      "Training until validation scores don't improve for 500 rounds.\n",
      "[200]\ttraining's auc: 0.927545\tvalid_1's auc: 0.879584\n",
      "[400]\ttraining's auc: 0.943789\tvalid_1's auc: 0.885718\n",
      "[600]\ttraining's auc: 0.953669\tvalid_1's auc: 0.891369\n",
      "[800]\ttraining's auc: 0.961838\tvalid_1's auc: 0.891834\n",
      "[1000]\ttraining's auc: 0.966789\tvalid_1's auc: 0.891689\n",
      "Early stopping, best iteration is:\n",
      "[653]\ttraining's auc: 0.955934\tvalid_1's auc: 0.89347\n",
      "Wall time: 4min 27s\n"
     ]
    }
   ],
   "source": [
    "params = {'metric': 'auc'}\n",
    "\n",
    "dtrain = lgb.Dataset(X_train, label=y_train)\n",
    "dvalid = lgb.Dataset(X_valid, label=y_valid)\n",
    "\n",
    "%time clf = lgb.train(params, dtrain, 10000, valid_sets = [dtrain, dvalid], verbose_eval=200, early_stopping_rounds=500)"
   ]
  },
  {
   "cell_type": "markdown",
   "metadata": {},
   "source": [
    "## Model interpretation\n",
    "Without doing much we don't get a great score. But what we're interested in are the features that have the most importance so focus on them and get more insights. \n",
    "\n",
    "Let's use LightGBM's plot_importance method to plot the top 50 features that have the most impact."
   ]
  },
  {
   "cell_type": "code",
   "execution_count": 286,
   "metadata": {
    "scrolled": false
   },
   "outputs": [
    {
     "data": {
      "text/plain": [
       "<matplotlib.axes._subplots.AxesSubplot at 0x18fff013240>"
      ]
     },
     "execution_count": 286,
     "metadata": {},
     "output_type": "execute_result"
    },
    {
     "data": {
      "image/png": "[encoded data removed]",
      "text/plain": [
       "<Figure size 1080x1440 with 1 Axes>"
      ]
     },
     "metadata": {
      "needs_background": "light"
     },
     "output_type": "display_data"
    }
   ],
   "source": [
    "lgb.plot_importance(clf, figsize=(15,20), max_num_features=50)"
   ]
  },
  {
   "cell_type": "markdown",
   "metadata": {},
   "source": [
    "From the feature importance plot, we know that the following features are important and worth looking at in detail:\n",
    "- All card features (`card1`, `card2`, etc.): payment card information, such as card type, card category, issue bank, country, etc.\n",
    "- `TransactionDT`: timedelta from a given reference datetime (not an actual timestamp)\n",
    "- `TransactionAmt`: transaction payment amount in USD\n",
    "- `addr1`: address\n",
    "- `P_emaildomain`, `R_emaildomain`: purchaser and recipient email domain\n",
    "- `C13`, `C1`, `C2`, `C14`: related with counting, such as how many addresses are found to be associated with the payment card, etc. The actual meaning is masked.\n",
    "- `id_31`: Information about the user's browser.\n",
    "\n",
    "There are more but these are the main ones we'll look at."
   ]
  },
  {
   "cell_type": "markdown",
   "metadata": {
    "heading_collapsed": true
   },
   "source": [
    "# Exploratory Data Analysis"
   ]
  },
  {
   "cell_type": "markdown",
   "metadata": {
    "hidden": true
   },
   "source": [
    "> Note: I will not go very deep into EDA since this is not the focus of this notebook. I will provide a few examples as to how EDA prompted feature engineering decision that were made on the dataset as well as some basic visualizations.  \n",
    "\n",
    "I recognize that in a real world scenario, a big chunk of the effort would be necessary for this stage. It is incredibly important to fully understand the data we are working with, and to work with different subject matter experts in the organization to validate our findings and to push our understanding further. I save this for when I'll try to win a competition ;)     \n",
    "\n",
    "---\n",
    "📣**Insights**: \n",
    "\n",
    "When dealing with a lot of data, it can be hard to visualize all the points on a graph. We can create a sampling function to deal with this issue. \n",
    "___"
   ]
  },
  {
   "cell_type": "code",
   "execution_count": 42,
   "metadata": {
    "hidden": true
   },
   "outputs": [],
   "source": [
    "def get_sample(df,n):\n",
    "    idxs = sorted(np.random.permutation(len(df))[:n])\n",
    "    return df.iloc[idxs].copy()\n",
    "\n",
    "df_sample = get_sample(df_train, 500)"
   ]
  },
  {
   "cell_type": "code",
   "execution_count": 161,
   "metadata": {
    "hidden": true
   },
   "outputs": [],
   "source": [
    "# Add 'isFraud' back to our dataframe for EDA purposes\n",
    "df_train['isFraud'] = df_train_og['isFraud']"
   ]
  },
  {
   "cell_type": "markdown",
   "metadata": {
    "hidden": true
   },
   "source": [
    "## Target variable: IsFraud"
   ]
  },
  {
   "cell_type": "markdown",
   "metadata": {
    "hidden": true
   },
   "source": [
    "Only **20,663** or **3.5%** of transactions were fraudulent. "
   ]
  },
  {
   "cell_type": "code",
   "execution_count": 48,
   "metadata": {
    "hidden": true
   },
   "outputs": [
    {
     "data": {
      "text/plain": [
       "<matplotlib.axes._subplots.AxesSubplot at 0x18fb473f630>"
      ]
     },
     "execution_count": 48,
     "metadata": {},
     "output_type": "execute_result"
    },
    {
     "data": {
      "image/png": "[encoded data removed]",
      "text/plain": [
       "<Figure size 720x216 with 1 Axes>"
      ]
     },
     "metadata": {
      "needs_background": "light"
     },
     "output_type": "display_data"
    }
   ],
   "source": [
    "plt.figure(figsize=(10, 3))\n",
    "sns.countplot(data=df_train, y= 'isFraud')"
   ]
  },
  {
   "cell_type": "code",
   "execution_count": 165,
   "metadata": {
    "hidden": true
   },
   "outputs": [
    {
     "data": {
      "text/plain": [
       "0    569877\n",
       "1     20663\n",
       "Name: isFraud, dtype: int64"
      ]
     },
     "execution_count": 165,
     "metadata": {},
     "output_type": "execute_result"
    }
   ],
   "source": [
    "df_train.isFraud.value_counts()"
   ]
  },
  {
   "cell_type": "markdown",
   "metadata": {
    "hidden": true
   },
   "source": [
    "## Cards"
   ]
  },
  {
   "cell_type": "markdown",
   "metadata": {
    "hidden": true
   },
   "source": [
    "Let's start by visualizing the relationships and distributions of our numerical Cards variables."
   ]
  },
  {
   "cell_type": "code",
   "execution_count": 49,
   "metadata": {
    "hidden": true
   },
   "outputs": [
    {
     "data": {
      "text/plain": [
       "<seaborn.axisgrid.PairGrid at 0x18fb4c84908>"
      ]
     },
     "execution_count": 49,
     "metadata": {},
     "output_type": "execute_result"
    },
    {
     "data": {
      "image/png": "[encoded data removed]",
      "text/plain": [
       "<Figure size 720x720 with 20 Axes>"
      ]
     },
     "metadata": {
      "needs_background": "light"
     },
     "output_type": "display_data"
    }
   ],
   "source": [
    "sns.pairplot(df_sample[['card1', 'card2', 'card3', 'card5']])"
   ]
  },
  {
   "cell_type": "markdown",
   "metadata": {
    "hidden": true
   },
   "source": [
    "Not much can be interpreted other than 'card3' and 'card5' are dominated by one value.\n",
    "\n",
    "**card4 & card5:**"
   ]
  },
  {
   "cell_type": "code",
   "execution_count": 55,
   "metadata": {
    "hidden": true
   },
   "outputs": [
    {
     "data": {
      "text/plain": [
       "Text(0.5, 1.0, 'Card6 Variable')"
      ]
     },
     "execution_count": 55,
     "metadata": {},
     "output_type": "execute_result"
    },
    {
     "data": {
      "image/png": "[encoded data removed]",
      "text/plain": [
       "<Figure size 864x360 with 2 Axes>"
      ]
     },
     "metadata": {
      "needs_background": "light"
     },
     "output_type": "display_data"
    }
   ],
   "source": [
    "plt.figure(figsize=[12,5])\n",
    "\n",
    "# card4\n",
    "plt.subplot(1,2,1)\n",
    "sns.countplot(data=df_train, x='card4')\n",
    "plt.title('Card4 Variable')\n",
    "\n",
    "# card6\n",
    "plt.subplot(1,2,2)\n",
    "sns.countplot(data=df_train, x='card6')\n",
    "plt.title('Card6 Variable')"
   ]
  },
  {
   "cell_type": "markdown",
   "metadata": {
    "hidden": true
   },
   "source": [
    "These variables will definitely be One Hot Encoded to make sure we're capturing all of their influence. "
   ]
  },
  {
   "cell_type": "markdown",
   "metadata": {
    "hidden": true
   },
   "source": [
    "## TransactionAMT "
   ]
  },
  {
   "cell_type": "markdown",
   "metadata": {
    "hidden": true
   },
   "source": [
    "As we'll see below, taking the log of the transaction amount really helps interpretation."
   ]
  },
  {
   "cell_type": "markdown",
   "metadata": {
    "hidden": true
   },
   "source": [
    "### Distribution"
   ]
  },
  {
   "cell_type": "code",
   "execution_count": 14,
   "metadata": {
    "hidden": true
   },
   "outputs": [
    {
     "data": {
      "image/png": "[encoded data removed]",
      "text/plain": [
       "<Figure size 432x288 with 1 Axes>"
      ]
     },
     "metadata": {
      "needs_background": "light"
     },
     "output_type": "display_data"
    }
   ],
   "source": [
    "# Take the log transaction amount with plt.xscale('log') and adjust the bins and ticks accordingly\n",
    "data = df_train.TransactionAmt\n",
    "data_bins = 10 ** np.arange(0.2, np.log10(data.max())+0.2, 0.2)\n",
    "plt.hist(data, bins=data_bins);\n",
    "plt.xscale('log')\n",
    "tick_loc = [5, 10, 30, 100, 300, 1000, 3000, 10000]\n",
    "plt.xticks(tick_loc, tick_loc)\n",
    "plt.xlabel('log values');"
   ]
  },
  {
   "cell_type": "markdown",
   "metadata": {
    "hidden": true
   },
   "source": [
    "### Distribution of fraudulent VS non fraudulent transaction amounts"
   ]
  },
  {
   "cell_type": "code",
   "execution_count": 86,
   "metadata": {
    "hidden": true
   },
   "outputs": [
    {
     "data": {
      "image/png": "[encoded data removed]",
      "text/plain": [
       "<Figure size 360x720 with 2 Axes>"
      ]
     },
     "metadata": {
      "needs_background": "light"
     },
     "output_type": "display_data"
    }
   ],
   "source": [
    "plt.figure(figsize=[5, 10])\n",
    "\n",
    "plt.subplot(2,1,1)\n",
    "data = df_train[df_train['isFraud'] == 1].TransactionAmt\n",
    "log_bins = 10 ** np.arange(0.2, np.log10(data.max())+0.2, 0.2)\n",
    "plt.hist(data, bins=log_bins);\n",
    "plt.xscale('log')\n",
    "tick_loc = [5, 10, 30, 100, 300, 1000, 3000, 10000, 38000]\n",
    "plt.xticks(tick_loc, tick_loc)\n",
    "plt.xlabel('Amount in USD');\n",
    "plt.title('Transaction is Fraudulent');\n",
    "\n",
    "plt.subplot(2,1,2)\n",
    "data = df_train[df_train['isFraud'] == 0].TransactionAmt\n",
    "log_bins = 10 ** np.arange(0.2, np.log10(data.max())+0.2, 0.2)\n",
    "plt.hist(data, bins=log_bins);\n",
    "plt.xscale('log')\n",
    "tick_loc = [5, 10, 30, 100, 300, 1000, 3000, 10000, 38000]\n",
    "plt.xticks(tick_loc, tick_loc)\n",
    "plt.xlabel('Amount in USD');\n",
    "plt.title('Transaction is NOT Fraudulent');"
   ]
  },
  {
   "cell_type": "markdown",
   "metadata": {
    "hidden": true
   },
   "source": [
    "There doesn't seem to be a big different in distributions betweem fraudulent and non fraudulent amounts. "
   ]
  },
  {
   "cell_type": "markdown",
   "metadata": {
    "hidden": true
   },
   "source": [
    "## Transaction amount over time"
   ]
  },
  {
   "cell_type": "code",
   "execution_count": null,
   "metadata": {
    "hidden": true
   },
   "outputs": [],
   "source": [
    "plt.plot(data=df_train, x='TransactionDT', y='TransactionAmt')"
   ]
  },
  {
   "cell_type": "markdown",
   "metadata": {
    "hidden": true
   },
   "source": [
    "## 'Cxx' columns"
   ]
  },
  {
   "cell_type": "markdown",
   "metadata": {
    "hidden": true
   },
   "source": [
    "We saw that some Cxx columns were important. Since they are only numeric, the only useful interpretation we could make is looking at their correlation and their distance from each other using en dendrogram\n",
    "\n",
    "\n",
    "---\n",
    "📣**Insights**: \n",
    "\n",
    "With hierarchical clustering, a neat feature is being able to visualize the distance between each point. This is called a dendrogram. You can find the code for it below. \n",
    "___"
   ]
  },
  {
   "cell_type": "code",
   "execution_count": 88,
   "metadata": {
    "hidden": true
   },
   "outputs": [
    {
     "name": "stdout",
     "output_type": "stream",
     "text": [
      "['C1', 'C2', 'C3', 'C4', 'C5', 'C6', 'C7', 'C8', 'C9', 'C10', 'C11', 'C12', 'C13', 'C14']\n"
     ]
    }
   ],
   "source": [
    "# Get all Cxx columns\n",
    "c_columns = []\n",
    "[c_columns.append(txt) for txt in df_train.columns if re.search('^[C]\\d+', txt)]\n",
    "        \n",
    "print(c_columns)"
   ]
  },
  {
   "cell_type": "code",
   "execution_count": 71,
   "metadata": {
    "hidden": true
   },
   "outputs": [
    {
     "data": {
      "image/png": "[encoded data removed]",
      "text/plain": [
       "<Figure size 864x504 with 1 Axes>"
      ]
     },
     "metadata": {
      "needs_background": "light"
     },
     "output_type": "display_data"
    }
   ],
   "source": [
    "corr = np.round(scipy.stats.spearmanr(df_train[c_columns]).correlation, 4)\n",
    "corr_condensed = hc.distance.squareform(1-corr)\n",
    "z = hc.linkage(corr_condensed, method='average')\n",
    "fig = plt.figure(figsize=(12,7))\n",
    "dendrogram = hc.dendrogram(z, labels=df_train[c_columns].columns, orientation='left', leaf_font_size=16)\n",
    "plt.show()"
   ]
  },
  {
   "cell_type": "markdown",
   "metadata": {
    "hidden": true
   },
   "source": [
    "Let's have a closer look at 'C10', 'C8' and 'C4'. "
   ]
  },
  {
   "cell_type": "code",
   "execution_count": 73,
   "metadata": {
    "hidden": true
   },
   "outputs": [
    {
     "data": {
      "text/plain": [
       "<seaborn.axisgrid.PairGrid at 0x18fb5d01dd8>"
      ]
     },
     "execution_count": 73,
     "metadata": {},
     "output_type": "execute_result"
    },
    {
     "data": {
      "image/png": "[encoded data removed]",
      "text/plain": [
       "<Figure size 540x540 with 12 Axes>"
      ]
     },
     "metadata": {
      "needs_background": "light"
     },
     "output_type": "display_data"
    }
   ],
   "source": [
    "g = sns.PairGrid(data=df_train, vars = ['C10', 'C8', 'C4'])\n",
    "g.map_diag(plt.hist)\n",
    "g.map_offdiag(plt.scatter)"
   ]
  },
  {
   "cell_type": "markdown",
   "metadata": {
    "hidden": true
   },
   "source": [
    "'C10', 'C8' and 'C4' seem to be very close to each other. Maybe we can test removing 1 or 2 of them to limit colinearity (unless we'll only be doing tree based methods which doesn't care about colinearity much).  "
   ]
  },
  {
   "cell_type": "markdown",
   "metadata": {
    "hidden": true
   },
   "source": [
    "## P_emaildomain and R_emaildomain"
   ]
  },
  {
   "cell_type": "code",
   "execution_count": 153,
   "metadata": {
    "hidden": true
   },
   "outputs": [
    {
     "data": {
      "text/plain": [
       "Text(0.5, 1.0, 'P_emaildomain distribution - Top 10')"
      ]
     },
     "execution_count": 153,
     "metadata": {},
     "output_type": "execute_result"
    },
    {
     "data": {
      "image/png": "[encoded data removed]",
      "text/plain": [
       "<Figure size 1224x360 with 1 Axes>"
      ]
     },
     "metadata": {
      "needs_background": "light"
     },
     "output_type": "display_data"
    }
   ],
   "source": [
    "plt.figure(figsize=[17, 5])\n",
    "base_color = sns.color_palette()[0]\n",
    "sns.countplot(data=df_train, x='P_emaildomain', order=df_train.P_emaildomain.value_counts().iloc[:10].index, color=base_color);\n",
    "plt.xlabel('email provider')\n",
    "plt.title('P_emaildomain distribution - Top 10')"
   ]
  },
  {
   "cell_type": "code",
   "execution_count": 154,
   "metadata": {
    "hidden": true
   },
   "outputs": [
    {
     "data": {
      "text/plain": [
       "Text(0.5, 1.0, 'R_emaildomain distribution - Top 10')"
      ]
     },
     "execution_count": 154,
     "metadata": {},
     "output_type": "execute_result"
    },
    {
     "data": {
      "image/png": "[encoded data removed]",
      "text/plain": [
       "<Figure size 1224x360 with 1 Axes>"
      ]
     },
     "metadata": {
      "needs_background": "light"
     },
     "output_type": "display_data"
    }
   ],
   "source": [
    "plt.figure(figsize=[17, 5])\n",
    "sns.countplot(data=df_train, x='R_emaildomain', order=df_train.P_emaildomain.value_counts().iloc[:10].index, color=base_color);\n",
    "plt.xlabel('email provider')\n",
    "plt.title('R_emaildomain distribution - Top 10')"
   ]
  },
  {
   "cell_type": "markdown",
   "metadata": {
    "hidden": true
   },
   "source": [
    "A lot of these email addresses can be grouped to limit the number of category for these variables (hotmail.com + outlook.com + msn.com = microsoft).  "
   ]
  },
  {
   "cell_type": "markdown",
   "metadata": {
    "hidden": true
   },
   "source": [
    "## Device Info"
   ]
  },
  {
   "cell_type": "code",
   "execution_count": 79,
   "metadata": {
    "hidden": true
   },
   "outputs": [
    {
     "data": {
      "text/plain": [
       "Windows                        47722\n",
       "iOS Device                     19782\n",
       "MacOS                          12573\n",
       "Trident/7.0                     7440\n",
       "rv:11.0                         1901\n",
       "rv:57.0                          962\n",
       "SM-J700M Build/MMB29K            549\n",
       "SM-G610M Build/MMB29K            461\n",
       "SM-G531H Build/LMY48B            410\n",
       "rv:59.0                          362\n",
       "SM-G935F Build/NRD90M            334\n",
       "SM-G955U Build/NRD90M            328\n",
       "SM-G532M Build/MMB29T            316\n",
       "ALE-L23 Build/HuaweiALE-L23      312\n",
       "SM-G950U Build/NRD90M            290\n",
       "SM-G930V Build/NRD90M            274\n",
       "rv:58.0                          269\n",
       "rv:52.0                          256\n",
       "SAMSUNG                          235\n",
       "SM-G950F Build/NRD90M            225\n",
       "Name: DeviceInfo, dtype: int64"
      ]
     },
     "execution_count": 79,
     "metadata": {},
     "output_type": "execute_result"
    }
   ],
   "source": [
    "df_train.DeviceInfo.value_counts()[:20]"
   ]
  },
  {
   "cell_type": "markdown",
   "metadata": {
    "hidden": true
   },
   "source": [
    "## Id_31 (browser versions)"
   ]
  },
  {
   "cell_type": "code",
   "execution_count": 288,
   "metadata": {
    "hidden": true
   },
   "outputs": [
    {
     "data": {
      "text/plain": [
       "chrome 63.0                   22000\n",
       "mobile safari 11.0            13423\n",
       "mobile safari generic         11474\n",
       "ie 11.0 for desktop            9030\n",
       "safari generic                 8195\n",
       "chrome 62.0                    7182\n",
       "chrome 65.0                    6871\n",
       "chrome 64.0                    6711\n",
       "chrome 63.0 for android        5806\n",
       "chrome generic                 4778\n",
       "chrome 66.0                    4264\n",
       "edge 16.0                      4188\n",
       "chrome 64.0 for android        3473\n",
       "chrome 65.0 for android        3336\n",
       "firefox 57.0                   3315\n",
       "mobile safari 10.0             2779\n",
       "chrome 66.0 for android        2349\n",
       "chrome 62.0 for android        2097\n",
       "edge 15.0                      1600\n",
       "chrome generic for android     1158\n",
       "Name: id_31, dtype: int64"
      ]
     },
     "execution_count": 288,
     "metadata": {},
     "output_type": "execute_result"
    }
   ],
   "source": [
    "df_train_og.id_31.value_counts()[:20]"
   ]
  },
  {
   "cell_type": "markdown",
   "metadata": {
    "hidden": true
   },
   "source": [
    "Both `DeviceInfo` and `Id_31` can be split in order to harness more information."
   ]
  },
  {
   "cell_type": "markdown",
   "metadata": {
    "heading_collapsed": true
   },
   "source": [
    "# Feature Engineering"
   ]
  },
  {
   "cell_type": "markdown",
   "metadata": {
    "hidden": true
   },
   "source": [
    "Now that we're going to build a serious model, let's first have a look at what we're dealing with in terms of null values in our data set. "
   ]
  },
  {
   "cell_type": "markdown",
   "metadata": {
    "hidden": true
   },
   "source": [
    "## Import our data once again to apply feature engineering"
   ]
  },
  {
   "cell_type": "code",
   "execution_count": 167,
   "metadata": {
    "hidden": true
   },
   "outputs": [],
   "source": [
    "# load training_set\n",
    "df_id_train = pd.read_csv(f'data/train_identity.csv')\n",
    "df_trans_train = pd.read_csv(f'data/train_transaction.csv')\n",
    "\n",
    "# load test_set\n",
    "df_id_test = pd.read_csv(f'data/test_identity.csv')\n",
    "df_trans_test = pd.read_csv(f'data/test_transaction.csv')\n",
    "\n",
    "# Merge\n",
    "df_train = df_trans_train.merge(df_id_train, on='TransactionID', how='left')\n",
    "df_test = df_trans_test.merge(df_id_test, on='TransactionID', how='left')"
   ]
  },
  {
   "cell_type": "code",
   "execution_count": 168,
   "metadata": {
    "hidden": true
   },
   "outputs": [],
   "source": [
    "# Set 'TransactionID' as index\n",
    "df_train = df_train.set_index('TransactionID')\n",
    "df_test = df_test.set_index('TransactionID')"
   ]
  },
  {
   "cell_type": "markdown",
   "metadata": {
    "hidden": true
   },
   "source": [
    "## Identifying and quantifying null values"
   ]
  },
  {
   "cell_type": "code",
   "execution_count": 169,
   "metadata": {
    "hidden": true
   },
   "outputs": [
    {
     "data": {
      "text/html": [
       "<div>\n",
       "<style scoped>\n",
       "    .dataframe tbody tr th:only-of-type {\n",
       "        vertical-align: middle;\n",
       "    }\n",
       "\n",
       "    .dataframe tbody tr th {\n",
       "        vertical-align: top;\n",
       "    }\n",
       "\n",
       "    .dataframe thead th {\n",
       "        text-align: right;\n",
       "    }\n",
       "</style>\n",
       "<table border=\"1\" class=\"dataframe\">\n",
       "  <thead>\n",
       "    <tr style=\"text-align: right;\">\n",
       "      <th></th>\n",
       "      <th>number_of_null</th>\n",
       "      <th>percentage_of_null</th>\n",
       "    </tr>\n",
       "  </thead>\n",
       "  <tbody>\n",
       "    <tr>\n",
       "      <td>dist2</td>\n",
       "      <td>552913</td>\n",
       "      <td>0.936284</td>\n",
       "    </tr>\n",
       "    <tr>\n",
       "      <td>D7</td>\n",
       "      <td>551623</td>\n",
       "      <td>0.934099</td>\n",
       "    </tr>\n",
       "    <tr>\n",
       "      <td>id_07</td>\n",
       "      <td>585385</td>\n",
       "      <td>0.991271</td>\n",
       "    </tr>\n",
       "    <tr>\n",
       "      <td>id_08</td>\n",
       "      <td>585385</td>\n",
       "      <td>0.991271</td>\n",
       "    </tr>\n",
       "    <tr>\n",
       "      <td>id_18</td>\n",
       "      <td>545427</td>\n",
       "      <td>0.923607</td>\n",
       "    </tr>\n",
       "    <tr>\n",
       "      <td>id_21</td>\n",
       "      <td>585381</td>\n",
       "      <td>0.991264</td>\n",
       "    </tr>\n",
       "    <tr>\n",
       "      <td>id_22</td>\n",
       "      <td>585371</td>\n",
       "      <td>0.991247</td>\n",
       "    </tr>\n",
       "    <tr>\n",
       "      <td>id_23</td>\n",
       "      <td>585371</td>\n",
       "      <td>0.991247</td>\n",
       "    </tr>\n",
       "    <tr>\n",
       "      <td>id_24</td>\n",
       "      <td>585793</td>\n",
       "      <td>0.991962</td>\n",
       "    </tr>\n",
       "    <tr>\n",
       "      <td>id_25</td>\n",
       "      <td>585408</td>\n",
       "      <td>0.991310</td>\n",
       "    </tr>\n",
       "    <tr>\n",
       "      <td>id_26</td>\n",
       "      <td>585377</td>\n",
       "      <td>0.991257</td>\n",
       "    </tr>\n",
       "    <tr>\n",
       "      <td>id_27</td>\n",
       "      <td>585371</td>\n",
       "      <td>0.991247</td>\n",
       "    </tr>\n",
       "  </tbody>\n",
       "</table>\n",
       "</div>"
      ],
      "text/plain": [
       "       number_of_null  percentage_of_null\n",
       "dist2          552913            0.936284\n",
       "D7             551623            0.934099\n",
       "id_07          585385            0.991271\n",
       "id_08          585385            0.991271\n",
       "id_18          545427            0.923607\n",
       "id_21          585381            0.991264\n",
       "id_22          585371            0.991247\n",
       "id_23          585371            0.991247\n",
       "id_24          585793            0.991962\n",
       "id_25          585408            0.991310\n",
       "id_26          585377            0.991257\n",
       "id_27          585371            0.991247"
      ]
     },
     "metadata": {},
     "output_type": "display_data"
    }
   ],
   "source": [
    "# Get the number of null values per columns\n",
    "null_data = df_train.isnull().sum()[df_train.isnull().sum() != 0] \n",
    "\n",
    "# Create a DF out of the number of null values \n",
    "df_null = pd.DataFrame(null_data, columns = ['number_of_null'])\n",
    "\n",
    "# Create a percentage column\n",
    "df_null['percentage_of_null'] = df_null.number_of_null.values / len(df_train) \n",
    "\n",
    "# Get columns with over 90% null values\n",
    "display_all(df_null[df_null['percentage_of_null'] > 0.9])\n"
   ]
  },
  {
   "cell_type": "markdown",
   "metadata": {
    "hidden": true
   },
   "source": [
    "This table shows columns with over 90% null values. Let's clean this up a little and remove columns with 90% null values and over."
   ]
  },
  {
   "cell_type": "markdown",
   "metadata": {
    "hidden": true
   },
   "source": [
    "### Cleaning columns with too many null values and too many repeated values"
   ]
  },
  {
   "cell_type": "code",
   "execution_count": 170,
   "metadata": {
    "hidden": true
   },
   "outputs": [],
   "source": [
    "def get_too_many_null_attr(data):\n",
    "    many_null_cols = [col for col in data.columns if data[col].isnull().sum() / data.shape[0] > 0.9]\n",
    "    return many_null_cols\n",
    "\n",
    "def get_too_many_repeated_val(data):\n",
    "    big_top_value_cols = [col for col in df_train.columns if df_train[col].value_counts(dropna=False, normalize=True).values[0] > 0.9]\n",
    "    return big_top_value_cols\n",
    "\n",
    "def get_useless_columns(data):\n",
    "    too_many_null = get_too_many_null_attr(data)\n",
    "    print(\"More than 90% null: \" + str(len(too_many_null)))\n",
    "    too_many_repeated = get_too_many_repeated_val(data)\n",
    "    print(\"More than 90% repeated value: \" + str(len(too_many_repeated)))\n",
    "    cols_to_drop = list(set(too_many_null + too_many_repeated))\n",
    "    #cols_to_drop.remove('isFraud')\n",
    "    return cols_to_drop"
   ]
  },
  {
   "cell_type": "code",
   "execution_count": 171,
   "metadata": {
    "hidden": true
   },
   "outputs": [
    {
     "name": "stdout",
     "output_type": "stream",
     "text": [
      "More than 90% null: 12\n",
      "More than 90% repeated value: 67\n"
     ]
    }
   ],
   "source": [
    "cols_to_drop = get_useless_columns(df_train)\n"
   ]
  },
  {
   "cell_type": "code",
   "execution_count": 172,
   "metadata": {
    "hidden": true
   },
   "outputs": [],
   "source": [
    "cols_to_drop = ['id_22', 'id_21', 'V132', 'id_27', 'V124', 'V134', 'V110', 'V135', 'V121', 'V296', 'V297', 'V309', 'id_07',\n",
    " 'V103', 'V119', 'V318', 'id_25', 'V137', 'id_08', 'V118', 'V129', 'V293', 'V101', 'V136', 'V319', 'D7', 'V109', 'V116',\n",
    " 'V106', 'C3', 'id_18', 'V298', 'V123', 'V305', 'V107', 'V108', 'V295', 'V311', 'V98', 'V133', 'V320', 'V125', 'V281',\n",
    " 'V300', 'V102', 'id_23', 'V114', 'V117', 'V284', 'V286', 'V316',  'V105', 'V120', 'V104', 'V290', 'V301', 'dist2', 'id_26',\n",
    " 'V112', 'V115', 'V321', 'id_24', 'V122', 'V113', 'V299', 'V111']"
   ]
  },
  {
   "cell_type": "code",
   "execution_count": 173,
   "metadata": {
    "hidden": true
   },
   "outputs": [],
   "source": [
    "# Drop useless columns\n",
    "df_train = df_train.drop(cols_to_drop, axis=1)\n",
    "df_test = df_test.drop(cols_to_drop, axis=1)"
   ]
  },
  {
   "cell_type": "code",
   "execution_count": 174,
   "metadata": {
    "hidden": true
   },
   "outputs": [
    {
     "data": {
      "text/plain": [
       "(590540, 367)"
      ]
     },
     "execution_count": 174,
     "metadata": {},
     "output_type": "execute_result"
    }
   ],
   "source": [
    "df_train.shape"
   ]
  },
  {
   "cell_type": "markdown",
   "metadata": {
    "hidden": true
   },
   "source": [
    "---\n",
    "📣 **Insights**\n",
    "\n",
    "I had tried submitting my results without this step. It turns out I scored 0.001 higher when I _didn't_ do this step. I guess the methodology I apply later on cleans out useless columns without needing to clean beforehand.\n",
    "\n",
    "I am still doing this step for good measure because I end up with a slightly smaller dataframe which is preferable. \n",
    "___"
   ]
  },
  {
   "cell_type": "markdown",
   "metadata": {
    "hidden": true
   },
   "source": [
    "## Extracting value from existing columns"
   ]
  },
  {
   "cell_type": "markdown",
   "metadata": {
    "hidden": true
   },
   "source": [
    "Based on our findings in the EDA phase of the analysis, our dataframe has columns which can be cleaned up and split in order to extract more usefull information. \n",
    "> Note: every change we make to `df_train` also has to be made to `df_test`.\n",
    "\n",
    "We'll first create a function that can:\n",
    "- Split `DeviceInfo` column on `/` to create 2 new columns containing information about the device name and version. \n",
    "- Split `id_30` column on `' '` to create 2 new columns containing information about the OS and the version of the OS.\n",
    "- Split `id_31` column on `' '` to create 2 new columsn containing information about the browser, and the browser version.\n",
    "- Group all combinations of phone manufacturer into one common name to avoid having too many distinct phone manufacturer categories\n",
    "- Map uncommon screensizes to 'Others', instead of having a bunch of screen sizes that didn't make sense.\n",
    "\n",
    "Once our function is applied, we'll delete the columns that were split to avoid redundancy. "
   ]
  },
  {
   "cell_type": "code",
   "execution_count": 175,
   "metadata": {
    "hidden": true
   },
   "outputs": [],
   "source": [
    "import gc\n",
    "def id_split(df):\n",
    "    df['device_name'] = df['DeviceInfo'].str.split('/', expand=True)[0]\n",
    "    df['device_version'] = df['DeviceInfo'].str.split('/', expand=True)[1]\n",
    "\n",
    "    df['OS_id_30'] = df['id_30'].str.split(' ', expand=True)[0]\n",
    "    df['version_id_30'] = df['id_30'].str.split(' ', expand=True)[1]\n",
    "\n",
    "    df['browser_id_31'] = df['id_31'].str.split(' ', expand=True)[0]\n",
    "    df['version_id_31'] = df['id_31'].str.split(' ', expand=True)[1]\n",
    "\n",
    "    # Group similar names into the same category\n",
    "    df.loc[df['device_name'].str.contains('SM', na=False), 'device_name'] = 'Samsung'\n",
    "    df.loc[df['device_name'].str.contains('SAMSUNG', na=False), 'device_name'] = 'Samsung'\n",
    "    df.loc[df['device_name'].str.contains('GT-', na=False), 'device_name'] = 'Samsung'\n",
    "    df.loc[df['device_name'].str.contains('Moto G', na=False), 'device_name'] = 'Motorola'\n",
    "    df.loc[df['device_name'].str.contains('Moto', na=False), 'device_name'] = 'Motorola'\n",
    "    df.loc[df['device_name'].str.contains('moto', na=False), 'device_name'] = 'Motorola'\n",
    "    df.loc[df['device_name'].str.contains('LG-', na=False), 'device_name'] = 'LG'\n",
    "    df.loc[df['device_name'].str.contains('rv:', na=False), 'device_name'] = 'RV'\n",
    "    df.loc[df['device_name'].str.contains('HUAWEI', na=False), 'device_name'] = 'Huawei'\n",
    "    df.loc[df['device_name'].str.contains('ALE-', na=False), 'device_name'] = 'Huawei'\n",
    "    df.loc[df['device_name'].str.contains('-L', na=False), 'device_name'] = 'Huawei'\n",
    "    df.loc[df['device_name'].str.contains('Blade', na=False), 'device_name'] = 'ZTE'\n",
    "    df.loc[df['device_name'].str.contains('BLADE', na=False), 'device_name'] = 'ZTE'\n",
    "    df.loc[df['device_name'].str.contains('Linux', na=False), 'device_name'] = 'Linux'\n",
    "    df.loc[df['device_name'].str.contains('XT', na=False), 'device_name'] = 'Sony'\n",
    "    df.loc[df['device_name'].str.contains('HTC', na=False), 'device_name'] = 'HTC'\n",
    "    df.loc[df['device_name'].str.contains('ASUS', na=False), 'device_name'] = 'Asus'\n",
    "    \n",
    "    # Change atypical screensizes with value_counts < 30 to 'Others'\n",
    "    df.loc[df.id_33.isin(df.id_33.value_counts()[df.id_33.value_counts() < 30].index), 'id_33'] = \"Others\"\n",
    "        \n",
    "    df.loc[df.device_name.isin(df.device_name.value_counts()[df.device_name.value_counts() < 200].index), 'device_name'] = \"Others\"\n",
    "    df['had_id'] = 1\n",
    "    gc.collect()\n",
    "    \n",
    "    return df"
   ]
  },
  {
   "cell_type": "code",
   "execution_count": 176,
   "metadata": {
    "hidden": true
   },
   "outputs": [
    {
     "data": {
      "text/html": [
       "<div>\n",
       "<style scoped>\n",
       "    .dataframe tbody tr th:only-of-type {\n",
       "        vertical-align: middle;\n",
       "    }\n",
       "\n",
       "    .dataframe tbody tr th {\n",
       "        vertical-align: top;\n",
       "    }\n",
       "\n",
       "    .dataframe thead th {\n",
       "        text-align: right;\n",
       "    }\n",
       "</style>\n",
       "<table border=\"1\" class=\"dataframe\">\n",
       "  <thead>\n",
       "    <tr style=\"text-align: right;\">\n",
       "      <th></th>\n",
       "      <th>TransactionDT</th>\n",
       "      <th>TransactionAmt</th>\n",
       "      <th>ProductCD</th>\n",
       "      <th>card1</th>\n",
       "      <th>card2</th>\n",
       "      <th>card3</th>\n",
       "      <th>card4</th>\n",
       "      <th>card5</th>\n",
       "      <th>card6</th>\n",
       "      <th>addr1</th>\n",
       "      <th>...</th>\n",
       "      <th>id_38</th>\n",
       "      <th>DeviceType</th>\n",
       "      <th>DeviceInfo</th>\n",
       "      <th>device_name</th>\n",
       "      <th>device_version</th>\n",
       "      <th>OS_id_30</th>\n",
       "      <th>version_id_30</th>\n",
       "      <th>browser_id_31</th>\n",
       "      <th>version_id_31</th>\n",
       "      <th>had_id</th>\n",
       "    </tr>\n",
       "    <tr>\n",
       "      <th>TransactionID</th>\n",
       "      <th></th>\n",
       "      <th></th>\n",
       "      <th></th>\n",
       "      <th></th>\n",
       "      <th></th>\n",
       "      <th></th>\n",
       "      <th></th>\n",
       "      <th></th>\n",
       "      <th></th>\n",
       "      <th></th>\n",
       "      <th></th>\n",
       "      <th></th>\n",
       "      <th></th>\n",
       "      <th></th>\n",
       "      <th></th>\n",
       "      <th></th>\n",
       "      <th></th>\n",
       "      <th></th>\n",
       "      <th></th>\n",
       "      <th></th>\n",
       "      <th></th>\n",
       "    </tr>\n",
       "  </thead>\n",
       "  <tbody>\n",
       "    <tr>\n",
       "      <td>3663549</td>\n",
       "      <td>18403224</td>\n",
       "      <td>31.950</td>\n",
       "      <td>W</td>\n",
       "      <td>10409</td>\n",
       "      <td>111.0</td>\n",
       "      <td>150.0</td>\n",
       "      <td>visa</td>\n",
       "      <td>226.0</td>\n",
       "      <td>debit</td>\n",
       "      <td>170.0</td>\n",
       "      <td>...</td>\n",
       "      <td>NaN</td>\n",
       "      <td>NaN</td>\n",
       "      <td>NaN</td>\n",
       "      <td>NaN</td>\n",
       "      <td>NaN</td>\n",
       "      <td>NaN</td>\n",
       "      <td>NaN</td>\n",
       "      <td>NaN</td>\n",
       "      <td>NaN</td>\n",
       "      <td>1</td>\n",
       "    </tr>\n",
       "    <tr>\n",
       "      <td>3663550</td>\n",
       "      <td>18403263</td>\n",
       "      <td>49.000</td>\n",
       "      <td>W</td>\n",
       "      <td>4272</td>\n",
       "      <td>111.0</td>\n",
       "      <td>150.0</td>\n",
       "      <td>visa</td>\n",
       "      <td>226.0</td>\n",
       "      <td>debit</td>\n",
       "      <td>299.0</td>\n",
       "      <td>...</td>\n",
       "      <td>NaN</td>\n",
       "      <td>NaN</td>\n",
       "      <td>NaN</td>\n",
       "      <td>NaN</td>\n",
       "      <td>NaN</td>\n",
       "      <td>NaN</td>\n",
       "      <td>NaN</td>\n",
       "      <td>NaN</td>\n",
       "      <td>NaN</td>\n",
       "      <td>1</td>\n",
       "    </tr>\n",
       "    <tr>\n",
       "      <td>3663551</td>\n",
       "      <td>18403310</td>\n",
       "      <td>171.000</td>\n",
       "      <td>W</td>\n",
       "      <td>4476</td>\n",
       "      <td>574.0</td>\n",
       "      <td>150.0</td>\n",
       "      <td>visa</td>\n",
       "      <td>226.0</td>\n",
       "      <td>debit</td>\n",
       "      <td>472.0</td>\n",
       "      <td>...</td>\n",
       "      <td>NaN</td>\n",
       "      <td>NaN</td>\n",
       "      <td>NaN</td>\n",
       "      <td>NaN</td>\n",
       "      <td>NaN</td>\n",
       "      <td>NaN</td>\n",
       "      <td>NaN</td>\n",
       "      <td>NaN</td>\n",
       "      <td>NaN</td>\n",
       "      <td>1</td>\n",
       "    </tr>\n",
       "    <tr>\n",
       "      <td>3663552</td>\n",
       "      <td>18403310</td>\n",
       "      <td>284.950</td>\n",
       "      <td>W</td>\n",
       "      <td>10989</td>\n",
       "      <td>360.0</td>\n",
       "      <td>150.0</td>\n",
       "      <td>visa</td>\n",
       "      <td>166.0</td>\n",
       "      <td>debit</td>\n",
       "      <td>205.0</td>\n",
       "      <td>...</td>\n",
       "      <td>NaN</td>\n",
       "      <td>NaN</td>\n",
       "      <td>NaN</td>\n",
       "      <td>NaN</td>\n",
       "      <td>NaN</td>\n",
       "      <td>NaN</td>\n",
       "      <td>NaN</td>\n",
       "      <td>NaN</td>\n",
       "      <td>NaN</td>\n",
       "      <td>1</td>\n",
       "    </tr>\n",
       "    <tr>\n",
       "      <td>3663553</td>\n",
       "      <td>18403317</td>\n",
       "      <td>67.950</td>\n",
       "      <td>W</td>\n",
       "      <td>18018</td>\n",
       "      <td>452.0</td>\n",
       "      <td>150.0</td>\n",
       "      <td>mastercard</td>\n",
       "      <td>117.0</td>\n",
       "      <td>debit</td>\n",
       "      <td>264.0</td>\n",
       "      <td>...</td>\n",
       "      <td>NaN</td>\n",
       "      <td>NaN</td>\n",
       "      <td>NaN</td>\n",
       "      <td>NaN</td>\n",
       "      <td>NaN</td>\n",
       "      <td>NaN</td>\n",
       "      <td>NaN</td>\n",
       "      <td>NaN</td>\n",
       "      <td>NaN</td>\n",
       "      <td>1</td>\n",
       "    </tr>\n",
       "    <tr>\n",
       "      <td>...</td>\n",
       "      <td>...</td>\n",
       "      <td>...</td>\n",
       "      <td>...</td>\n",
       "      <td>...</td>\n",
       "      <td>...</td>\n",
       "      <td>...</td>\n",
       "      <td>...</td>\n",
       "      <td>...</td>\n",
       "      <td>...</td>\n",
       "      <td>...</td>\n",
       "      <td>...</td>\n",
       "      <td>...</td>\n",
       "      <td>...</td>\n",
       "      <td>...</td>\n",
       "      <td>...</td>\n",
       "      <td>...</td>\n",
       "      <td>...</td>\n",
       "      <td>...</td>\n",
       "      <td>...</td>\n",
       "      <td>...</td>\n",
       "      <td>...</td>\n",
       "    </tr>\n",
       "    <tr>\n",
       "      <td>4170235</td>\n",
       "      <td>34214279</td>\n",
       "      <td>94.679</td>\n",
       "      <td>C</td>\n",
       "      <td>13832</td>\n",
       "      <td>375.0</td>\n",
       "      <td>185.0</td>\n",
       "      <td>mastercard</td>\n",
       "      <td>224.0</td>\n",
       "      <td>debit</td>\n",
       "      <td>284.0</td>\n",
       "      <td>...</td>\n",
       "      <td>NaN</td>\n",
       "      <td>NaN</td>\n",
       "      <td>NaN</td>\n",
       "      <td>NaN</td>\n",
       "      <td>NaN</td>\n",
       "      <td>NaN</td>\n",
       "      <td>NaN</td>\n",
       "      <td>NaN</td>\n",
       "      <td>NaN</td>\n",
       "      <td>1</td>\n",
       "    </tr>\n",
       "    <tr>\n",
       "      <td>4170236</td>\n",
       "      <td>34214287</td>\n",
       "      <td>12.173</td>\n",
       "      <td>C</td>\n",
       "      <td>3154</td>\n",
       "      <td>408.0</td>\n",
       "      <td>185.0</td>\n",
       "      <td>mastercard</td>\n",
       "      <td>224.0</td>\n",
       "      <td>debit</td>\n",
       "      <td>NaN</td>\n",
       "      <td>...</td>\n",
       "      <td>F</td>\n",
       "      <td>mobile</td>\n",
       "      <td>ALE-L23 Build/HuaweiALE-L23</td>\n",
       "      <td>Huawei</td>\n",
       "      <td>HuaweiALE-L23</td>\n",
       "      <td>NaN</td>\n",
       "      <td>NaN</td>\n",
       "      <td>chrome</td>\n",
       "      <td>43.0</td>\n",
       "      <td>1</td>\n",
       "    </tr>\n",
       "    <tr>\n",
       "      <td>4170237</td>\n",
       "      <td>34214326</td>\n",
       "      <td>49.000</td>\n",
       "      <td>W</td>\n",
       "      <td>16661</td>\n",
       "      <td>490.0</td>\n",
       "      <td>150.0</td>\n",
       "      <td>visa</td>\n",
       "      <td>226.0</td>\n",
       "      <td>debit</td>\n",
       "      <td>327.0</td>\n",
       "      <td>...</td>\n",
       "      <td>NaN</td>\n",
       "      <td>NaN</td>\n",
       "      <td>NaN</td>\n",
       "      <td>NaN</td>\n",
       "      <td>NaN</td>\n",
       "      <td>NaN</td>\n",
       "      <td>NaN</td>\n",
       "      <td>NaN</td>\n",
       "      <td>NaN</td>\n",
       "      <td>1</td>\n",
       "    </tr>\n",
       "    <tr>\n",
       "      <td>4170238</td>\n",
       "      <td>34214337</td>\n",
       "      <td>202.000</td>\n",
       "      <td>W</td>\n",
       "      <td>16621</td>\n",
       "      <td>516.0</td>\n",
       "      <td>150.0</td>\n",
       "      <td>mastercard</td>\n",
       "      <td>224.0</td>\n",
       "      <td>debit</td>\n",
       "      <td>177.0</td>\n",
       "      <td>...</td>\n",
       "      <td>NaN</td>\n",
       "      <td>NaN</td>\n",
       "      <td>NaN</td>\n",
       "      <td>NaN</td>\n",
       "      <td>NaN</td>\n",
       "      <td>NaN</td>\n",
       "      <td>NaN</td>\n",
       "      <td>NaN</td>\n",
       "      <td>NaN</td>\n",
       "      <td>1</td>\n",
       "    </tr>\n",
       "    <tr>\n",
       "      <td>4170239</td>\n",
       "      <td>34214345</td>\n",
       "      <td>24.346</td>\n",
       "      <td>C</td>\n",
       "      <td>5713</td>\n",
       "      <td>168.0</td>\n",
       "      <td>144.0</td>\n",
       "      <td>visa</td>\n",
       "      <td>147.0</td>\n",
       "      <td>credit</td>\n",
       "      <td>NaN</td>\n",
       "      <td>...</td>\n",
       "      <td>F</td>\n",
       "      <td>mobile</td>\n",
       "      <td>SAMSUNG</td>\n",
       "      <td>Samsung</td>\n",
       "      <td>None</td>\n",
       "      <td>NaN</td>\n",
       "      <td>NaN</td>\n",
       "      <td>samsung</td>\n",
       "      <td>browser</td>\n",
       "      <td>1</td>\n",
       "    </tr>\n",
       "  </tbody>\n",
       "</table>\n",
       "<p>506691 rows × 373 columns</p>\n",
       "</div>"
      ],
      "text/plain": [
       "               TransactionDT  TransactionAmt ProductCD  card1  card2  card3  \\\n",
       "TransactionID                                                                 \n",
       "3663549             18403224          31.950         W  10409  111.0  150.0   \n",
       "3663550             18403263          49.000         W   4272  111.0  150.0   \n",
       "3663551             18403310         171.000         W   4476  574.0  150.0   \n",
       "3663552             18403310         284.950         W  10989  360.0  150.0   \n",
       "3663553             18403317          67.950         W  18018  452.0  150.0   \n",
       "...                      ...             ...       ...    ...    ...    ...   \n",
       "4170235             34214279          94.679         C  13832  375.0  185.0   \n",
       "4170236             34214287          12.173         C   3154  408.0  185.0   \n",
       "4170237             34214326          49.000         W  16661  490.0  150.0   \n",
       "4170238             34214337         202.000         W  16621  516.0  150.0   \n",
       "4170239             34214345          24.346         C   5713  168.0  144.0   \n",
       "\n",
       "                    card4  card5   card6  addr1  ...  id_38  DeviceType  \\\n",
       "TransactionID                                    ...                      \n",
       "3663549              visa  226.0   debit  170.0  ...    NaN         NaN   \n",
       "3663550              visa  226.0   debit  299.0  ...    NaN         NaN   \n",
       "3663551              visa  226.0   debit  472.0  ...    NaN         NaN   \n",
       "3663552              visa  166.0   debit  205.0  ...    NaN         NaN   \n",
       "3663553        mastercard  117.0   debit  264.0  ...    NaN         NaN   \n",
       "...                   ...    ...     ...    ...  ...    ...         ...   \n",
       "4170235        mastercard  224.0   debit  284.0  ...    NaN         NaN   \n",
       "4170236        mastercard  224.0   debit    NaN  ...      F      mobile   \n",
       "4170237              visa  226.0   debit  327.0  ...    NaN         NaN   \n",
       "4170238        mastercard  224.0   debit  177.0  ...    NaN         NaN   \n",
       "4170239              visa  147.0  credit    NaN  ...      F      mobile   \n",
       "\n",
       "                                DeviceInfo device_name  device_version  \\\n",
       "TransactionID                                                            \n",
       "3663549                                NaN         NaN             NaN   \n",
       "3663550                                NaN         NaN             NaN   \n",
       "3663551                                NaN         NaN             NaN   \n",
       "3663552                                NaN         NaN             NaN   \n",
       "3663553                                NaN         NaN             NaN   \n",
       "...                                    ...         ...             ...   \n",
       "4170235                                NaN         NaN             NaN   \n",
       "4170236        ALE-L23 Build/HuaweiALE-L23      Huawei   HuaweiALE-L23   \n",
       "4170237                                NaN         NaN             NaN   \n",
       "4170238                                NaN         NaN             NaN   \n",
       "4170239                            SAMSUNG     Samsung            None   \n",
       "\n",
       "               OS_id_30  version_id_30  browser_id_31  version_id_31  had_id  \n",
       "TransactionID                                                                 \n",
       "3663549             NaN            NaN            NaN            NaN       1  \n",
       "3663550             NaN            NaN            NaN            NaN       1  \n",
       "3663551             NaN            NaN            NaN            NaN       1  \n",
       "3663552             NaN            NaN            NaN            NaN       1  \n",
       "3663553             NaN            NaN            NaN            NaN       1  \n",
       "...                 ...            ...            ...            ...     ...  \n",
       "4170235             NaN            NaN            NaN            NaN       1  \n",
       "4170236             NaN            NaN         chrome           43.0       1  \n",
       "4170237             NaN            NaN            NaN            NaN       1  \n",
       "4170238             NaN            NaN            NaN            NaN       1  \n",
       "4170239             NaN            NaN        samsung        browser       1  \n",
       "\n",
       "[506691 rows x 373 columns]"
      ]
     },
     "execution_count": 176,
     "metadata": {},
     "output_type": "execute_result"
    }
   ],
   "source": [
    "# Apply the function to df_train and df_test\n",
    "id_split(df_train)\n",
    "id_split(df_test)"
   ]
  },
  {
   "cell_type": "code",
   "execution_count": 177,
   "metadata": {
    "hidden": true
   },
   "outputs": [],
   "source": [
    "# delete splited cols to remove redundant information \n",
    "split_col = ['DeviceInfo', 'id_30', 'id_31']\n",
    "df_train.drop(split_col, axis=1, inplace=True)\n",
    "df_test.drop(split_col, axis=1, inplace=True)"
   ]
  },
  {
   "cell_type": "markdown",
   "metadata": {
    "hidden": true
   },
   "source": [
    "**More feature engineering based on feature importance and EDA**\n",
    "\n",
    "- `TransactionAmt` looks like it would be more informative using its log values.\n",
    "- We'll also create a new column `TransactionAmt_decimal` with only the decimal values of `TransactionAmt`.\n",
    "- `TransactionDT` is a column related to time, but we have to apply some transformations in order to get the information we want. We'll extract `Transaction_day_of_week` and `Transaction_hour` and create 2 new columns. "
   ]
  },
  {
   "cell_type": "code",
   "execution_count": 178,
   "metadata": {
    "hidden": true
   },
   "outputs": [],
   "source": [
    "# Add feature: log of transaction amount\n",
    "df_train['TransactionAmt_Log'] = np.log(df_train['TransactionAmt'])\n",
    "df_test['TransactionAmt_Log'] = np.log(df_test['TransactionAmt'])\n",
    "\n",
    "# Add feature: day of the week \n",
    "df_train['Transaction_day_of_week'] = np.floor((df_train['TransactionDT'] / (3600 * 24) - 1) % 7)\n",
    "df_test['Transaction_day_of_week'] = np.floor((df_train['TransactionDT'] / (3600 * 24) - 1) % 7)\n",
    "                                               \n",
    "# Add feature: hour of the day \n",
    "df_train['Transaction_hour'] = np.floor(df_train['TransactionDT'] / 3600) % 24\n",
    "df_test['Transaction_hour'] = np.floor(df_test['TransactionDT'] / 3600) % 24\n",
    "\n",
    "# Add feature: decimal part of the transaction amount\n",
    "df_train['TransactionAmt_decimal'] = ((df_train['TransactionAmt'] - df_train['TransactionAmt'].astype(int)) * 1000).astype(int)\n",
    "df_test['TransactionAmt_decimal'] = ((df_test['TransactionAmt'] - df_test['TransactionAmt'].astype(int)) * 1000).astype(int)"
   ]
  },
  {
   "cell_type": "markdown",
   "metadata": {
    "hidden": true
   },
   "source": [
    "Valuable information can be extracted from `P_emaildomain` and `R_emaildomain`: \n",
    "- Group each variation of emails into different categories. Ex: msn.com, hotmail.es and outlook.com will all be maped to `microsoft`.\n",
    "- Get the Top Level Domains of all email addresses (.es, .co.jp, .de, etc). "
   ]
  },
  {
   "cell_type": "code",
   "execution_count": 179,
   "metadata": {
    "hidden": true
   },
   "outputs": [],
   "source": [
    "# Dictionnary of email domains mapped to more general categories\n",
    "emails = {'gmail': 'google', 'att.net': 'att', 'twc.com': 'spectrum', 'scranton.edu': 'other', \n",
    "          'optonline.net': 'other', 'hotmail.co.uk': 'microsoft', 'comcast.net': 'other', \n",
    "           'yahoo.com.mx': 'yahoo', 'yahoo.fr': 'yahoo', 'yahoo.es': 'yahoo', 'charter.net': 'spectrum', \n",
    "           'live.com': 'microsoft', 'aim.com': 'aol', 'hotmail.de': 'microsoft', 'centurylink.net': 'centurylink',\n",
    "           'gmail.com': 'google', 'me.com': 'apple', 'earthlink.net': 'other', 'gmx.de': 'other', 'web.de': 'other',\n",
    "            'cfl.rr.com': 'other', 'hotmail.com': 'microsoft', 'protonmail.com': 'other', 'hotmail.fr': 'microsoft', \n",
    "            'windstream.net': 'other', 'outlook.es': 'microsoft', 'yahoo.co.jp': 'yahoo', 'yahoo.de': 'yahoo',\n",
    "          'servicios-ta.com': 'other', 'netzero.net': 'other', 'suddenlink.net': 'other', 'roadrunner.com': 'other', \n",
    "          'sc.rr.com': 'other', 'live.fr': 'microsoft', 'verizon.net': 'yahoo', 'msn.com': 'microsoft', 'q.com': 'centurylink', \n",
    "          'prodigy.net.mx': 'att', 'frontier.com': 'yahoo', 'anonymous.com': 'other', 'rocketmail.com': 'yahoo',\n",
    "          'sbcglobal.net': 'att', 'frontiernet.net': 'yahoo', 'ymail.com': 'yahoo', 'outlook.com': 'microsoft',\n",
    "          'mail.com': 'other', 'bellsouth.net': 'other', 'embarqmail.com': 'centurylink', 'cableone.net': 'other', \n",
    "          'hotmail.es': 'microsoft', 'mac.com': 'apple', 'yahoo.co.uk': 'yahoo', 'netzero.com': 'other',\n",
    "          'yahoo.com': 'yahoo', 'live.com.mx': 'microsoft', 'ptd.net': 'other', 'cox.net': 'other', 'aol.com': 'aol',\n",
    "          'juno.com': 'other', 'icloud.com': 'apple'}\n",
    "us_emails = ['gmail', 'net', 'edu']\n",
    "\n",
    "# Perform the map change\n",
    "for c in ['P_emaildomain', 'R_emaildomain']:\n",
    "    df_train[c + '_bin'] = df_train[c].map(emails)\n",
    "    df_test[c + '_bin'] = df_test[c].map(emails)\n",
    "    \n",
    "    # Get the TLDs of each email\n",
    "    df_train[c + '_suffix'] = df_train[c].map(lambda x: str(x).split('.')[-1])\n",
    "    df_test[c + '_suffix'] = df_test[c].map(lambda x: str(x).split('.')[-1])\n",
    "    \n",
    "    # If \n",
    "    df_train[c + '_suffix'] = df_train[c + '_suffix'].map(lambda x: x if str(x) not in us_emails else 'us')\n",
    "    df_test[c + '_suffix'] = df_test[c + '_suffix'].map(lambda x: x if str(x) not in us_emails else 'us')"
   ]
  },
  {
   "cell_type": "markdown",
   "metadata": {
    "hidden": true
   },
   "source": [
    "Next we'll group the mean transaction per card. "
   ]
  },
  {
   "cell_type": "code",
   "execution_count": 180,
   "metadata": {
    "hidden": true
   },
   "outputs": [],
   "source": [
    "for card in ['card1', 'card2', 'card3', 'card4', 'card5']: \n",
    "    df_train['TransactionAmt_' + card + '_mean'] = df_train['TransactionAmt'] / df_train.groupby([card])['TransactionAmt'].transform('mean')\n",
    "    df_test['TransactionAmt_' + card + '_mean'] = df_test['TransactionAmt'] / df_test.groupby([card])['TransactionAmt'].transform('mean')"
   ]
  },
  {
   "cell_type": "markdown",
   "metadata": {
    "hidden": true
   },
   "source": [
    "Finally, we'll create interactions between important features."
   ]
  },
  {
   "cell_type": "code",
   "execution_count": 181,
   "metadata": {
    "hidden": true
   },
   "outputs": [],
   "source": [
    "# Create more random interactions between important features \n",
    "for feature in ['P_emaildomain_bin__TransactionAmt_Log', 'P_emaildomain_bin__Transaction_hour', 'card1__card2', \n",
    "                'card1__card3', 'card1__card5', 'addr1__addr2', 'addr1__card1', \n",
    "                'card1__P_emaildomain_bin', 'card1__C1', 'card1__TransactionAmt_Log',\n",
    "                'V258__card1', 'V258__card2', 'V258__card3', 'V258__P_emaildomain_bin', 'V258__Transaction_hour', \n",
    "                 'version_id_31__device_version', 'version_id_31__device_name',\n",
    "                 'id_33__device_name', 'id_33__device_version', 'id_33__browser_id_31', \n",
    "                'card1__card4', 'P_emaildomain_bin__card4', 'TransactionAmt_Log__card4', \n",
    "                'id_33__version_id_31']:\n",
    "    f1, f2 = feature.split('__')\n",
    "    df_train[feature] = df_train[f1].astype(str) + '_' + df_train[f2].astype(str)\n",
    "    df_test[feature] = df_test[f1].astype(str) + '_' + df_test[f2].astype(str)"
   ]
  },
  {
   "cell_type": "code",
   "execution_count": 182,
   "metadata": {
    "hidden": true
   },
   "outputs": [
    {
     "data": {
      "text/plain": [
       "((590540, 408), (506691, 407))"
      ]
     },
     "execution_count": 182,
     "metadata": {},
     "output_type": "execute_result"
    }
   ],
   "source": [
    "# Sanity Check\n",
    "df_train.shape, df_test.shape"
   ]
  },
  {
   "cell_type": "markdown",
   "metadata": {
    "hidden": true
   },
   "source": [
    "## Apply the cleaning functions so that our new DataFrames are ready for training"
   ]
  },
  {
   "cell_type": "code",
   "execution_count": null,
   "metadata": {
    "hidden": true
   },
   "outputs": [],
   "source": [
    "train_cats(df_train)\n",
    "apply_cats(df_test)"
   ]
  },
  {
   "cell_type": "code",
   "execution_count": null,
   "metadata": {
    "hidden": true
   },
   "outputs": [],
   "source": [
    "# Apply proc_df to transform our dataframe, remove NAs and create new columns with NAs\n",
    "df_train, y, nas = proc_df(df_train, 'isFraud', max_n_cat=8)"
   ]
  },
  {
   "cell_type": "code",
   "execution_count": null,
   "metadata": {
    "hidden": true
   },
   "outputs": [],
   "source": [
    "# Apply proc_df to the test dataframe\n",
    "df_test, _, nas = proc_df(df_test, na_dict=nas, max_n_cat=8)"
   ]
  },
  {
   "cell_type": "code",
   "execution_count": null,
   "metadata": {
    "hidden": true
   },
   "outputs": [],
   "source": [
    "# Create a copy for safe measures\n",
    "df_train_copy = df_train.copy()\n",
    "df_test_copy = df_test.copy()"
   ]
  },
  {
   "cell_type": "markdown",
   "metadata": {
    "heading_collapsed": true
   },
   "source": [
    "# Reducing Memory Usage and Saving Progress"
   ]
  },
  {
   "cell_type": "markdown",
   "metadata": {
    "hidden": true
   },
   "source": [
    "---\n",
    "📣 **Insights**\n",
    "\n",
    "There are two very important ways to be more efficient with our time when working on a large data set. \n",
    "1. Save our DataFrame once the cleaning and feature engineering is done so that we don't have to run these steps again when we're continuing working where we left off. **A great library that efficiently stores pandas DataFrame objects on disk is [Feather-format](https://pypi.org/project/feather-format/).** Run this instead of going through all of your data cleaning and feature engineering every time you open your notebook.  \n",
    "\n",
    "\n",
    "2. Reduce the memory usage of our data frame so that every time we run a model it goes faster. \n",
    " \n",
    "> Note: Feather format does not support saving columns in Float16. Therefore, we can't save with feather after running the reduce memory function.  \n",
    "___"
   ]
  },
  {
   "cell_type": "markdown",
   "metadata": {
    "hidden": true
   },
   "source": [
    "## Saving & Loading with Feather "
   ]
  },
  {
   "cell_type": "markdown",
   "metadata": {
    "hidden": true
   },
   "source": [
    "**Save and import the fully cleaned and feature engineered dataset.**"
   ]
  },
  {
   "cell_type": "code",
   "execution_count": 70,
   "metadata": {
    "hidden": true
   },
   "outputs": [],
   "source": [
    "# Save\n",
    "os.makedirs('tmp', exist_ok=True)\n",
    "\n",
    "# Save df_train\n",
    "df_train.reset_index().to_feather('tmp/ieee_fraud_detection_train') # index must be reset in order to use feather\n",
    "\n",
    "# Save df_test\n",
    "df_test.reset_index().to_feather('tmp/ieee_fraud_detection_test')\n",
    "\n",
    "# Save the target variable normally because it is small \n",
    "np.save('tmp/y.npy', y)  "
   ]
  },
  {
   "cell_type": "code",
   "execution_count": 210,
   "metadata": {
    "hidden": true
   },
   "outputs": [],
   "source": [
    "# Load\n",
    "df_train = pd.read_feather('tmp/ieee_fraud_detection_train')\n",
    "df_test = pd.read_feather('tmp/ieee_fraud_detection_test')\n",
    "y = np.load('tmp/y.npy')"
   ]
  },
  {
   "cell_type": "code",
   "execution_count": 211,
   "metadata": {
    "hidden": true
   },
   "outputs": [],
   "source": [
    "# Set 'TransactionID' as index again\n",
    "df_train = df_train.set_index('TransactionID')\n",
    "df_test = df_test.set_index('TransactionID')"
   ]
  },
  {
   "cell_type": "markdown",
   "metadata": {
    "hidden": true
   },
   "source": [
    "**Save and load the DataFrame with feature_importance > 80**"
   ]
  },
  {
   "cell_type": "code",
   "execution_count": 220,
   "metadata": {
    "hidden": true
   },
   "outputs": [],
   "source": [
    "# Save\n",
    "os.makedirs('tmp', exist_ok=True)\n",
    "\n",
    "# Save df_train\n",
    "df_train.reset_index().to_feather('tmp/ieee_fraud_detection_train_pruned') # index must be reset in order to use feather\n",
    "\n",
    "# Save df_test\n",
    "df_test.reset_index().to_feather('tmp/ieee_fraud_detection_test_pruned')\n",
    "\n",
    "# Save the target variable normally because it is small \n",
    "np.save('tmp/y.npy', y)"
   ]
  },
  {
   "cell_type": "code",
   "execution_count": 16,
   "metadata": {
    "hidden": true
   },
   "outputs": [],
   "source": [
    "# Load\n",
    "df_train = pd.read_feather('tmp/ieee_fraud_detection_train_pruned')\n",
    "df_test = pd.read_feather('tmp/ieee_fraud_detection_test_pruned')\n",
    "y = np.load('tmp/y.npy')"
   ]
  },
  {
   "cell_type": "code",
   "execution_count": 17,
   "metadata": {
    "hidden": true
   },
   "outputs": [],
   "source": [
    "# Set 'TransactionID' as index again\n",
    "df_train = df_train.set_index('TransactionID')\n",
    "df_test = df_test.set_index('TransactionID')"
   ]
  },
  {
   "cell_type": "code",
   "execution_count": 41,
   "metadata": {
    "hidden": true
   },
   "outputs": [
    {
     "data": {
      "text/plain": [
       "((590540, 797), (506691, 796))"
      ]
     },
     "execution_count": 41,
     "metadata": {},
     "output_type": "execute_result"
    }
   ],
   "source": [
    "df_train.shape, df_test.shape"
   ]
  },
  {
   "cell_type": "markdown",
   "metadata": {
    "hidden": true
   },
   "source": [
    "## Reduce memory usage"
   ]
  },
  {
   "cell_type": "code",
   "execution_count": 221,
   "metadata": {
    "hidden": true
   },
   "outputs": [],
   "source": [
    "def reduce_mem_usage(df):\n",
    "    \"\"\" iterate through all the columns of a dataframe and modify the data type\n",
    "        to reduce memory usage.        \n",
    "    \"\"\"\n",
    "    start_mem = df.memory_usage().sum() / 1024**2\n",
    "    print('Memory usage of dataframe is {:.2f} MB'.format(start_mem))\n",
    "    \n",
    "    for col in df.columns:\n",
    "        col_type = df[col].dtype\n",
    "        \n",
    "        if col_type != object:\n",
    "            c_min = df[col].min()\n",
    "            c_max = df[col].max()\n",
    "            if str(col_type)[:3] == 'int':\n",
    "                if c_min > np.iinfo(np.int8).min and c_max < np.iinfo(np.int8).max:\n",
    "                    df[col] = df[col].astype(np.int8)\n",
    "                elif c_min > np.iinfo(np.int16).min and c_max < np.iinfo(np.int16).max:\n",
    "                    df[col] = df[col].astype(np.int16)\n",
    "                elif c_min > np.iinfo(np.int32).min and c_max < np.iinfo(np.int32).max:\n",
    "                    df[col] = df[col].astype(np.int32)\n",
    "                elif c_min > np.iinfo(np.int64).min and c_max < np.iinfo(np.int64).max:\n",
    "                    df[col] = df[col].astype(np.int64)  \n",
    "            else:\n",
    "                if c_min > np.finfo(np.float16).min and c_max < np.finfo(np.float16).max:\n",
    "                    df[col] = df[col].astype(np.float16)\n",
    "                elif c_min > np.finfo(np.float32).min and c_max < np.finfo(np.float32).max:\n",
    "                    df[col] = df[col].astype(np.float32)\n",
    "                else:\n",
    "                    df[col] = df[col].astype(np.float64)\n",
    "        else:\n",
    "            df[col] = df[col].astype('category')\n",
    "\n",
    "    end_mem = df.memory_usage().sum() / 1024**2\n",
    "    print('Memory usage after optimization is: {:.2f} MB'.format(end_mem))\n",
    "    print('Decreased by {:.1f}%'.format(100 * (start_mem - end_mem) / start_mem))\n",
    "    \n",
    "    return df"
   ]
  },
  {
   "cell_type": "code",
   "execution_count": 222,
   "metadata": {
    "hidden": true
   },
   "outputs": [
    {
     "name": "stdout",
     "output_type": "stream",
     "text": [
      "Memory usage of dataframe is 1452.45 MB\n",
      "Memory usage after optimization is: 507.99 MB\n",
      "Decreased by 65.0%\n",
      "Memory usage of dataframe is 1246.22 MB\n"
     ]
    },
    {
     "name": "stderr",
     "output_type": "stream",
     "text": [
      "C:\\ProgramData\\Anaconda3\\lib\\site-packages\\ipykernel_launcher.py:24: RuntimeWarning: invalid value encountered in less\n",
      "C:\\ProgramData\\Anaconda3\\lib\\site-packages\\ipykernel_launcher.py:26: RuntimeWarning: invalid value encountered in less\n"
     ]
    },
    {
     "name": "stdout",
     "output_type": "stream",
     "text": [
      "Memory usage after optimization is: 446.49 MB\n",
      "Decreased by 64.2%\n"
     ]
    },
    {
     "data": {
      "text/html": [
       "<div>\n",
       "<style scoped>\n",
       "    .dataframe tbody tr th:only-of-type {\n",
       "        vertical-align: middle;\n",
       "    }\n",
       "\n",
       "    .dataframe tbody tr th {\n",
       "        vertical-align: top;\n",
       "    }\n",
       "\n",
       "    .dataframe thead th {\n",
       "        text-align: right;\n",
       "    }\n",
       "</style>\n",
       "<table border=\"1\" class=\"dataframe\">\n",
       "  <thead>\n",
       "    <tr style=\"text-align: right;\">\n",
       "      <th></th>\n",
       "      <th>TransactionDT</th>\n",
       "      <th>addr1__card1</th>\n",
       "      <th>card1</th>\n",
       "      <th>P_emaildomain_bin__TransactionAmt_Log</th>\n",
       "      <th>TransactionAmt_card1_mean</th>\n",
       "      <th>card2</th>\n",
       "      <th>TransactionAmt_card2_mean</th>\n",
       "      <th>P_emaildomain_bin__Transaction_hour</th>\n",
       "      <th>card1__card2</th>\n",
       "      <th>V258__card2</th>\n",
       "      <th>...</th>\n",
       "      <th>V76_na</th>\n",
       "      <th>V15</th>\n",
       "      <th>V148</th>\n",
       "      <th>V16</th>\n",
       "      <th>V254</th>\n",
       "      <th>M1_T</th>\n",
       "      <th>V177</th>\n",
       "      <th>V235</th>\n",
       "      <th>V198</th>\n",
       "      <th>V175</th>\n",
       "    </tr>\n",
       "    <tr>\n",
       "      <th>TransactionID</th>\n",
       "      <th></th>\n",
       "      <th></th>\n",
       "      <th></th>\n",
       "      <th></th>\n",
       "      <th></th>\n",
       "      <th></th>\n",
       "      <th></th>\n",
       "      <th></th>\n",
       "      <th></th>\n",
       "      <th></th>\n",
       "      <th></th>\n",
       "      <th></th>\n",
       "      <th></th>\n",
       "      <th></th>\n",
       "      <th></th>\n",
       "      <th></th>\n",
       "      <th></th>\n",
       "      <th></th>\n",
       "      <th></th>\n",
       "      <th></th>\n",
       "      <th></th>\n",
       "    </tr>\n",
       "  </thead>\n",
       "  <tbody>\n",
       "    <tr>\n",
       "      <td>3663549</td>\n",
       "      <td>18403224</td>\n",
       "      <td>3894</td>\n",
       "      <td>10409</td>\n",
       "      <td>6007</td>\n",
       "      <td>0.339355</td>\n",
       "      <td>111.0</td>\n",
       "      <td>0.209595</td>\n",
       "      <td>96</td>\n",
       "      <td>394</td>\n",
       "      <td>1693</td>\n",
       "      <td>...</td>\n",
       "      <td>0.0</td>\n",
       "      <td>0.0</td>\n",
       "      <td>1.0</td>\n",
       "      <td>0.0</td>\n",
       "      <td>1.0</td>\n",
       "      <td>1.0</td>\n",
       "      <td>0.0</td>\n",
       "      <td>0.0</td>\n",
       "      <td>1.0</td>\n",
       "      <td>0.0</td>\n",
       "    </tr>\n",
       "    <tr>\n",
       "      <td>3663550</td>\n",
       "      <td>18403263</td>\n",
       "      <td>19590</td>\n",
       "      <td>4272</td>\n",
       "      <td>182</td>\n",
       "      <td>0.333496</td>\n",
       "      <td>111.0</td>\n",
       "      <td>0.321289</td>\n",
       "      <td>1</td>\n",
       "      <td>9754</td>\n",
       "      <td>1693</td>\n",
       "      <td>...</td>\n",
       "      <td>0.0</td>\n",
       "      <td>0.0</td>\n",
       "      <td>1.0</td>\n",
       "      <td>0.0</td>\n",
       "      <td>1.0</td>\n",
       "      <td>1.0</td>\n",
       "      <td>0.0</td>\n",
       "      <td>0.0</td>\n",
       "      <td>1.0</td>\n",
       "      <td>0.0</td>\n",
       "    </tr>\n",
       "    <tr>\n",
       "      <td>3663551</td>\n",
       "      <td>18403310</td>\n",
       "      <td>33954</td>\n",
       "      <td>4476</td>\n",
       "      <td>21061</td>\n",
       "      <td>1.485352</td>\n",
       "      <td>574.0</td>\n",
       "      <td>0.987305</td>\n",
       "      <td>120</td>\n",
       "      <td>9911</td>\n",
       "      <td>2156</td>\n",
       "      <td>...</td>\n",
       "      <td>0.0</td>\n",
       "      <td>0.0</td>\n",
       "      <td>1.0</td>\n",
       "      <td>0.0</td>\n",
       "      <td>1.0</td>\n",
       "      <td>1.0</td>\n",
       "      <td>0.0</td>\n",
       "      <td>0.0</td>\n",
       "      <td>1.0</td>\n",
       "      <td>0.0</td>\n",
       "    </tr>\n",
       "    <tr>\n",
       "      <td>3663552</td>\n",
       "      <td>18403310</td>\n",
       "      <td>10486</td>\n",
       "      <td>10989</td>\n",
       "      <td>10924</td>\n",
       "      <td>2.968750</td>\n",
       "      <td>360.0</td>\n",
       "      <td>2.894531</td>\n",
       "      <td>96</td>\n",
       "      <td>932</td>\n",
       "      <td>1942</td>\n",
       "      <td>...</td>\n",
       "      <td>0.0</td>\n",
       "      <td>0.0</td>\n",
       "      <td>1.0</td>\n",
       "      <td>0.0</td>\n",
       "      <td>1.0</td>\n",
       "      <td>1.0</td>\n",
       "      <td>0.0</td>\n",
       "      <td>0.0</td>\n",
       "      <td>1.0</td>\n",
       "      <td>0.0</td>\n",
       "    </tr>\n",
       "    <tr>\n",
       "      <td>3663553</td>\n",
       "      <td>18403317</td>\n",
       "      <td>15046</td>\n",
       "      <td>18018</td>\n",
       "      <td>7948</td>\n",
       "      <td>0.567383</td>\n",
       "      <td>452.0</td>\n",
       "      <td>0.566406</td>\n",
       "      <td>96</td>\n",
       "      <td>7377</td>\n",
       "      <td>2034</td>\n",
       "      <td>...</td>\n",
       "      <td>0.0</td>\n",
       "      <td>0.0</td>\n",
       "      <td>1.0</td>\n",
       "      <td>0.0</td>\n",
       "      <td>1.0</td>\n",
       "      <td>1.0</td>\n",
       "      <td>0.0</td>\n",
       "      <td>0.0</td>\n",
       "      <td>1.0</td>\n",
       "      <td>0.0</td>\n",
       "    </tr>\n",
       "    <tr>\n",
       "      <td>...</td>\n",
       "      <td>...</td>\n",
       "      <td>...</td>\n",
       "      <td>...</td>\n",
       "      <td>...</td>\n",
       "      <td>...</td>\n",
       "      <td>...</td>\n",
       "      <td>...</td>\n",
       "      <td>...</td>\n",
       "      <td>...</td>\n",
       "      <td>...</td>\n",
       "      <td>...</td>\n",
       "      <td>...</td>\n",
       "      <td>...</td>\n",
       "      <td>...</td>\n",
       "      <td>...</td>\n",
       "      <td>...</td>\n",
       "      <td>...</td>\n",
       "      <td>...</td>\n",
       "      <td>...</td>\n",
       "      <td>...</td>\n",
       "      <td>...</td>\n",
       "    </tr>\n",
       "    <tr>\n",
       "      <td>4170235</td>\n",
       "      <td>34214279</td>\n",
       "      <td>17936</td>\n",
       "      <td>13832</td>\n",
       "      <td>8845</td>\n",
       "      <td>2.771484</td>\n",
       "      <td>375.0</td>\n",
       "      <td>2.882812</td>\n",
       "      <td>112</td>\n",
       "      <td>3565</td>\n",
       "      <td>1957</td>\n",
       "      <td>...</td>\n",
       "      <td>0.0</td>\n",
       "      <td>1.0</td>\n",
       "      <td>1.0</td>\n",
       "      <td>1.0</td>\n",
       "      <td>1.0</td>\n",
       "      <td>0.0</td>\n",
       "      <td>0.0</td>\n",
       "      <td>0.0</td>\n",
       "      <td>1.0</td>\n",
       "      <td>0.0</td>\n",
       "    </tr>\n",
       "    <tr>\n",
       "      <td>4170236</td>\n",
       "      <td>34214287</td>\n",
       "      <td>38988</td>\n",
       "      <td>3154</td>\n",
       "      <td>15903</td>\n",
       "      <td>0.360107</td>\n",
       "      <td>408.0</td>\n",
       "      <td>0.351807</td>\n",
       "      <td>136</td>\n",
       "      <td>8816</td>\n",
       "      <td>304</td>\n",
       "      <td>...</td>\n",
       "      <td>0.0</td>\n",
       "      <td>1.0</td>\n",
       "      <td>1.0</td>\n",
       "      <td>1.0</td>\n",
       "      <td>1.0</td>\n",
       "      <td>0.0</td>\n",
       "      <td>0.0</td>\n",
       "      <td>0.0</td>\n",
       "      <td>1.0</td>\n",
       "      <td>0.0</td>\n",
       "    </tr>\n",
       "    <tr>\n",
       "      <td>4170237</td>\n",
       "      <td>34214326</td>\n",
       "      <td>24736</td>\n",
       "      <td>16661</td>\n",
       "      <td>18207</td>\n",
       "      <td>0.424072</td>\n",
       "      <td>490.0</td>\n",
       "      <td>0.350586</td>\n",
       "      <td>136</td>\n",
       "      <td>6138</td>\n",
       "      <td>2072</td>\n",
       "      <td>...</td>\n",
       "      <td>0.0</td>\n",
       "      <td>0.0</td>\n",
       "      <td>1.0</td>\n",
       "      <td>0.0</td>\n",
       "      <td>1.0</td>\n",
       "      <td>1.0</td>\n",
       "      <td>0.0</td>\n",
       "      <td>0.0</td>\n",
       "      <td>1.0</td>\n",
       "      <td>0.0</td>\n",
       "    </tr>\n",
       "    <tr>\n",
       "      <td>4170238</td>\n",
       "      <td>34214337</td>\n",
       "      <td>0</td>\n",
       "      <td>16621</td>\n",
       "      <td>21256</td>\n",
       "      <td>2.314453</td>\n",
       "      <td>516.0</td>\n",
       "      <td>1.890625</td>\n",
       "      <td>136</td>\n",
       "      <td>0</td>\n",
       "      <td>2098</td>\n",
       "      <td>...</td>\n",
       "      <td>0.0</td>\n",
       "      <td>0.0</td>\n",
       "      <td>1.0</td>\n",
       "      <td>0.0</td>\n",
       "      <td>1.0</td>\n",
       "      <td>1.0</td>\n",
       "      <td>0.0</td>\n",
       "      <td>0.0</td>\n",
       "      <td>1.0</td>\n",
       "      <td>0.0</td>\n",
       "    </tr>\n",
       "    <tr>\n",
       "      <td>4170239</td>\n",
       "      <td>34214345</td>\n",
       "      <td>39371</td>\n",
       "      <td>5713</td>\n",
       "      <td>16729</td>\n",
       "      <td>0.162964</td>\n",
       "      <td>168.0</td>\n",
       "      <td>0.161865</td>\n",
       "      <td>136</td>\n",
       "      <td>10930</td>\n",
       "      <td>71</td>\n",
       "      <td>...</td>\n",
       "      <td>0.0</td>\n",
       "      <td>1.0</td>\n",
       "      <td>1.0</td>\n",
       "      <td>1.0</td>\n",
       "      <td>1.0</td>\n",
       "      <td>0.0</td>\n",
       "      <td>0.0</td>\n",
       "      <td>0.0</td>\n",
       "      <td>1.0</td>\n",
       "      <td>0.0</td>\n",
       "    </tr>\n",
       "  </tbody>\n",
       "</table>\n",
       "<p>506691 rows × 413 columns</p>\n",
       "</div>"
      ],
      "text/plain": [
       "               TransactionDT  addr1__card1  card1  \\\n",
       "TransactionID                                       \n",
       "3663549             18403224          3894  10409   \n",
       "3663550             18403263         19590   4272   \n",
       "3663551             18403310         33954   4476   \n",
       "3663552             18403310         10486  10989   \n",
       "3663553             18403317         15046  18018   \n",
       "...                      ...           ...    ...   \n",
       "4170235             34214279         17936  13832   \n",
       "4170236             34214287         38988   3154   \n",
       "4170237             34214326         24736  16661   \n",
       "4170238             34214337             0  16621   \n",
       "4170239             34214345         39371   5713   \n",
       "\n",
       "               P_emaildomain_bin__TransactionAmt_Log  \\\n",
       "TransactionID                                          \n",
       "3663549                                         6007   \n",
       "3663550                                          182   \n",
       "3663551                                        21061   \n",
       "3663552                                        10924   \n",
       "3663553                                         7948   \n",
       "...                                              ...   \n",
       "4170235                                         8845   \n",
       "4170236                                        15903   \n",
       "4170237                                        18207   \n",
       "4170238                                        21256   \n",
       "4170239                                        16729   \n",
       "\n",
       "               TransactionAmt_card1_mean  card2  TransactionAmt_card2_mean  \\\n",
       "TransactionID                                                                \n",
       "3663549                         0.339355  111.0                   0.209595   \n",
       "3663550                         0.333496  111.0                   0.321289   \n",
       "3663551                         1.485352  574.0                   0.987305   \n",
       "3663552                         2.968750  360.0                   2.894531   \n",
       "3663553                         0.567383  452.0                   0.566406   \n",
       "...                                  ...    ...                        ...   \n",
       "4170235                         2.771484  375.0                   2.882812   \n",
       "4170236                         0.360107  408.0                   0.351807   \n",
       "4170237                         0.424072  490.0                   0.350586   \n",
       "4170238                         2.314453  516.0                   1.890625   \n",
       "4170239                         0.162964  168.0                   0.161865   \n",
       "\n",
       "               P_emaildomain_bin__Transaction_hour  card1__card2  V258__card2  \\\n",
       "TransactionID                                                                   \n",
       "3663549                                         96           394         1693   \n",
       "3663550                                          1          9754         1693   \n",
       "3663551                                        120          9911         2156   \n",
       "3663552                                         96           932         1942   \n",
       "3663553                                         96          7377         2034   \n",
       "...                                            ...           ...          ...   \n",
       "4170235                                        112          3565         1957   \n",
       "4170236                                        136          8816          304   \n",
       "4170237                                        136          6138         2072   \n",
       "4170238                                        136             0         2098   \n",
       "4170239                                        136         10930           71   \n",
       "\n",
       "               ...  V76_na  V15  V148  V16  V254  M1_T  V177  V235  V198  V175  \n",
       "TransactionID  ...                                                              \n",
       "3663549        ...     0.0  0.0   1.0  0.0   1.0   1.0   0.0   0.0   1.0   0.0  \n",
       "3663550        ...     0.0  0.0   1.0  0.0   1.0   1.0   0.0   0.0   1.0   0.0  \n",
       "3663551        ...     0.0  0.0   1.0  0.0   1.0   1.0   0.0   0.0   1.0   0.0  \n",
       "3663552        ...     0.0  0.0   1.0  0.0   1.0   1.0   0.0   0.0   1.0   0.0  \n",
       "3663553        ...     0.0  0.0   1.0  0.0   1.0   1.0   0.0   0.0   1.0   0.0  \n",
       "...            ...     ...  ...   ...  ...   ...   ...   ...   ...   ...   ...  \n",
       "4170235        ...     0.0  1.0   1.0  1.0   1.0   0.0   0.0   0.0   1.0   0.0  \n",
       "4170236        ...     0.0  1.0   1.0  1.0   1.0   0.0   0.0   0.0   1.0   0.0  \n",
       "4170237        ...     0.0  0.0   1.0  0.0   1.0   1.0   0.0   0.0   1.0   0.0  \n",
       "4170238        ...     0.0  0.0   1.0  0.0   1.0   1.0   0.0   0.0   1.0   0.0  \n",
       "4170239        ...     0.0  1.0   1.0  1.0   1.0   0.0   0.0   0.0   1.0   0.0  \n",
       "\n",
       "[506691 rows x 413 columns]"
      ]
     },
     "execution_count": 222,
     "metadata": {},
     "output_type": "execute_result"
    }
   ],
   "source": [
    "reduce_mem_usage(df_train)\n",
    "reduce_mem_usage(df_test)"
   ]
  },
  {
   "cell_type": "code",
   "execution_count": null,
   "metadata": {
    "hidden": true
   },
   "outputs": [],
   "source": [
    "# sanity check \n",
    "df_train.info(verbose=True)"
   ]
  },
  {
   "cell_type": "markdown",
   "metadata": {},
   "source": [
    "# LGBM Hyperparameter Tuning"
   ]
  },
  {
   "cell_type": "markdown",
   "metadata": {},
   "source": [
    "I tested a few models such as XGBoost, RandomForests and AdaBoost. LGBM was the one that yielded the best results and is the one I  will be demonstrating here.\n",
    "\n",
    "Let's apply grid search to find the best parameters. \n",
    "\n",
    "## Grid Search\n",
    "\n",
    "> Note: My approach was to grid search a few hyperparameters to get a general idea of what works best. I then fine tuned the hyperparameters one by one fitting the model and comparing at the AUC score.  "
   ]
  },
  {
   "cell_type": "code",
   "execution_count": 106,
   "metadata": {},
   "outputs": [],
   "source": [
    "gridparams = {\n",
    "    'learning_rate': [0.001, 0.005, 0.01, 0.05],\n",
    "    'num_leaves': [20, 25, 31, 35],\n",
    "    'subsample': [0.7, 1],\n",
    "    'metric': ['auc'],\n",
    "    'boosting_type': ['gbdt', 'dart'],\n",
    "    'objective': ['binary'],\n",
    "    'colsample_bytree' : [0.64, 0.66, 0.7, 1],\n",
    "    'reg_alpha': [1, 1.2, 1.4]\n",
    "}"
   ]
  },
  {
   "cell_type": "code",
   "execution_count": 156,
   "metadata": {},
   "outputs": [
    {
     "name": "stderr",
     "output_type": "stream",
     "text": [
      "C:\\ProgramData\\Anaconda3\\lib\\site-packages\\sklearn\\model_selection\\_split.py:1978: FutureWarning: The default value of cv will change from 3 to 5 in version 0.22. Specify it explicitly to silence this warning.\n",
      "  warnings.warn(CV_WARNING, FutureWarning)\n",
      "[Parallel(n_jobs=-1)]: Using backend LokyBackend with 8 concurrent workers.\n"
     ]
    },
    {
     "name": "stdout",
     "output_type": "stream",
     "text": [
      "Fitting 3 folds for each of 18 candidates, totalling 54 fits\n"
     ]
    },
    {
     "name": "stderr",
     "output_type": "stream",
     "text": [
      "[Parallel(n_jobs=-1)]: Done  34 tasks      | elapsed:  5.4min\n",
      "[Parallel(n_jobs=-1)]: Done  54 out of  54 | elapsed:  7.6min finished\n"
     ]
    },
    {
     "data": {
      "text/plain": [
       "GridSearchCV(cv='warn', error_score='raise-deprecating',\n",
       "             estimator=LGBMClassifier(boosting_type='gbdt', class_weight=None,\n",
       "                                      colsample_bytree=0.7,\n",
       "                                      importance_type='split',\n",
       "                                      learning_rate=0.008, max_depth=-1,\n",
       "                                      min_child_samples=20,\n",
       "                                      min_child_weight=0.001,\n",
       "                                      min_split_gain=0.0, n_estimators=100,\n",
       "                                      n_jobs=-1, num_leaves=50,\n",
       "                                      objective='binary', random_state=None,\n",
       "                                      reg_alpha=0.2, reg_lambda=0.4,\n",
       "                                      silent=True, subsample=1.0,\n",
       "                                      subsample_for_bin=200000,\n",
       "                                      subsample_freq=0),\n",
       "             iid='warn', n_jobs=-1,\n",
       "             param_grid={'colsample_bytree': [0.7, 0.64],\n",
       "                         'learning_rate': [0.006, 0.008, 0.01],\n",
       "                         'num_leaves': [60, 150, 400]},\n",
       "             pre_dispatch='2*n_jobs', refit=True, return_train_score=False,\n",
       "             scoring=None, verbose=1)"
      ]
     },
     "execution_count": 156,
     "metadata": {},
     "output_type": "execute_result"
    }
   ],
   "source": [
    "search = GridSearchCV(model, gridparams, verbose=1, n_jobs=-1)\n",
    "search.fit(X_train, y_train)"
   ]
  },
  {
   "cell_type": "markdown",
   "metadata": {},
   "source": [
    "## Using the best model"
   ]
  },
  {
   "cell_type": "markdown",
   "metadata": {},
   "source": [
    "These are the parameters I am using for the model. Note: they are a combination of hyperparameters taken from a public kernel in Kaggle and some that I have found myself. "
   ]
  },
  {
   "cell_type": "code",
   "execution_count": 212,
   "metadata": {},
   "outputs": [],
   "source": [
    "params = {'num_leaves': 600,\n",
    "          'min_child_weight': 0.03454472573214212,\n",
    "          'feature_fraction': 0.4,\n",
    "          'bagging_fraction': 0.6,\n",
    "          'min_data_in_leaf': 106,\n",
    "          'objective': 'binary',\n",
    "          'max_depth': -1,\n",
    "          'learning_rate': 0.005,\n",
    "          \"boosting_type\": \"gbdt\",\n",
    "          \"bagging_seed\": 11,\n",
    "          \"metric\": 'auc',\n",
    "          \"verbosity\": -1,\n",
    "          'reg_alpha': 0.3899927210061127,\n",
    "          'reg_lambda': 0.6485237330340494,\n",
    "          'random_state': 47,\n",
    "          'max_bin': 500\n",
    "         }"
   ]
  },
  {
   "cell_type": "markdown",
   "metadata": {},
   "source": [
    "Create a sample training and validation dataset to fine tuning parameters and reduce training time."
   ]
  },
  {
   "cell_type": "code",
   "execution_count": 198,
   "metadata": {},
   "outputs": [
    {
     "name": "stdout",
     "output_type": "stream",
     "text": [
      "X_train: 50000, X_valid: 15000, y_train: 50000, y_valid: 15000\n"
     ]
    }
   ],
   "source": [
    "# Create a training and validation data set. \n",
    "n = 50_000\n",
    "m = 65_000\n",
    "X_train, X_valid = split_vals_sample(df_train, n, m)\n",
    "y_train, y_valid = split_vals_sample(y, n, m)\n",
    "\n",
    "print(F'X_train: {len(X_train)}, X_valid: {len(X_valid)}, y_train: {len(y_train)}, y_valid: {len(y_valid)}')"
   ]
  },
  {
   "cell_type": "code",
   "execution_count": 214,
   "metadata": {},
   "outputs": [
    {
     "name": "stdout",
     "output_type": "stream",
     "text": [
      "Training until validation scores don't improve for 500 rounds.\n",
      "[200]\ttraining's auc: 0.952552\tvalid_1's auc: 0.906107\n",
      "[400]\ttraining's auc: 0.969201\tvalid_1's auc: 0.916365\n",
      "[600]\ttraining's auc: 0.983639\tvalid_1's auc: 0.92596\n",
      "[800]\ttraining's auc: 0.991602\tvalid_1's auc: 0.932032\n",
      "[1000]\ttraining's auc: 0.99581\tvalid_1's auc: 0.935288\n",
      "[1200]\ttraining's auc: 0.997993\tvalid_1's auc: 0.936999\n",
      "[1400]\ttraining's auc: 0.999073\tvalid_1's auc: 0.937526\n",
      "[1600]\ttraining's auc: 0.999591\tvalid_1's auc: 0.937742\n",
      "[1800]\ttraining's auc: 0.999824\tvalid_1's auc: 0.937923\n",
      "[2000]\ttraining's auc: 0.999927\tvalid_1's auc: 0.93808\n",
      "[2200]\ttraining's auc: 0.999971\tvalid_1's auc: 0.938182\n",
      "[2400]\ttraining's auc: 0.999989\tvalid_1's auc: 0.938316\n",
      "[2600]\ttraining's auc: 0.999996\tvalid_1's auc: 0.938344\n",
      "[2800]\ttraining's auc: 0.999999\tvalid_1's auc: 0.93844\n",
      "[3000]\ttraining's auc: 1\tvalid_1's auc: 0.938445\n",
      "[3200]\ttraining's auc: 1\tvalid_1's auc: 0.938323\n",
      "Early stopping, best iteration is:\n",
      "[2867]\ttraining's auc: 0.999999\tvalid_1's auc: 0.938519\n",
      "Wall time: 28min 47s\n"
     ]
    }
   ],
   "source": [
    "dtrain = lgb.Dataset(X_train, label=y_train)\n",
    "dvalid = lgb.Dataset(X_valid, label=y_valid)\n",
    "\n",
    "%time clf = lgb.train(params, dtrain, 10000, valid_sets = [dtrain, dvalid], verbose_eval=200, early_stopping_rounds=500)"
   ]
  },
  {
   "cell_type": "markdown",
   "metadata": {},
   "source": [
    "# Feature Selection with Feature Importance"
   ]
  },
  {
   "cell_type": "markdown",
   "metadata": {},
   "source": [
    "## Feature importance"
   ]
  },
  {
   "cell_type": "markdown",
   "metadata": {},
   "source": [
    "---\n",
    "📣 **Insights**\n",
    "\n",
    "We can improve the model by removing all the columns that have a feature importance under a specified number. By removing them and training the model again with the same parameters, we end up with a (slightly) better AUC score. \n",
    "___"
   ]
  },
  {
   "cell_type": "code",
   "execution_count": 215,
   "metadata": {},
   "outputs": [
    {
     "data": {
      "text/plain": [
       "<matplotlib.axes._subplots.AxesSubplot at 0x18fff42fcf8>"
      ]
     },
     "execution_count": 215,
     "metadata": {},
     "output_type": "execute_result"
    },
    {
     "data": {
      "image/png": "[encoded data removed]",
      "text/plain": [
       "<Figure size 1080x1440 with 1 Axes>"
      ]
     },
     "metadata": {
      "needs_background": "light"
     },
     "output_type": "display_data"
    }
   ],
   "source": [
    "# Plot top feature importances\n",
    "lgb.plot_importance(clf, figsize=(15,20), max_num_features=30)"
   ]
  },
  {
   "cell_type": "code",
   "execution_count": 216,
   "metadata": {},
   "outputs": [],
   "source": [
    "# Create a function to get feature importance\n",
    "def feature_importance(df, m):\n",
    "    fi = pd.DataFrame({'cols': df.columns, 'feature-importances': m.feature_importance(importance_type='split')})\\\n",
    "                        .sort_values(by='feature-importances', ascending=False)\n",
    "    return fi\n",
    "\n",
    "fi = feature_importance(df_train, clf)"
   ]
  },
  {
   "cell_type": "markdown",
   "metadata": {},
   "source": [
    "Plot feature_importance distribution"
   ]
  },
  {
   "cell_type": "code",
   "execution_count": 217,
   "metadata": {},
   "outputs": [
    {
     "data": {
      "image/png": "[encoded data removed]",
      "text/plain": [
       "<Figure size 720x432 with 1 Axes>"
      ]
     },
     "metadata": {
      "needs_background": "light"
     },
     "output_type": "display_data"
    }
   ],
   "source": [
    "fi.plot('cols', 'feature-importances', figsize=(10,6), legend=False);"
   ]
  },
  {
   "cell_type": "markdown",
   "metadata": {},
   "source": [
    "## Keep features only with importance > 80"
   ]
  },
  {
   "cell_type": "code",
   "execution_count": 218,
   "metadata": {},
   "outputs": [
    {
     "data": {
      "text/plain": [
       "(590540, 413)"
      ]
     },
     "execution_count": 218,
     "metadata": {},
     "output_type": "execute_result"
    }
   ],
   "source": [
    "# Keep only the columns with over 80 importance\n",
    "df_keep = fi[fi['feature-importances'] > 80]\n",
    "df_keep.cols\n",
    "\n",
    "df_train = df_train[df_keep.cols]\n",
    "df_train.shape"
   ]
  },
  {
   "cell_type": "code",
   "execution_count": 219,
   "metadata": {},
   "outputs": [
    {
     "data": {
      "text/plain": [
       "(506691, 413)"
      ]
     },
     "execution_count": 219,
     "metadata": {},
     "output_type": "execute_result"
    }
   ],
   "source": [
    "# Apply the same treatment to our training set\n",
    "df_test = df_test[df_keep.cols]\n",
    "df_test.shape"
   ]
  },
  {
   "cell_type": "markdown",
   "metadata": {},
   "source": [
    "Now that we've done some feature selection, we can retrain our model and find what our score is. Again, we have the choice of training on a sample of the data if we want to iterate quickly or train on the full data set.  "
   ]
  },
  {
   "cell_type": "code",
   "execution_count": 223,
   "metadata": {},
   "outputs": [
    {
     "name": "stdout",
     "output_type": "stream",
     "text": [
      "X_train: 500000, X_valid: 90540, y_train: 500000, y_valid: 90540\n"
     ]
    }
   ],
   "source": [
    "# Create a training and validation data set\n",
    "n = 500_000\n",
    "X_train, X_valid = split_vals(df_train, n)\n",
    "y_train, y_valid = split_vals(y, n)\n",
    "\n",
    "print(F'X_train: {len(X_train)}, X_valid: {len(X_valid)}, y_train: {len(y_train)}, y_valid: {len(y_valid)}')"
   ]
  },
  {
   "cell_type": "code",
   "execution_count": 108,
   "metadata": {},
   "outputs": [
    {
     "name": "stdout",
     "output_type": "stream",
     "text": [
      "X_train: 50000, X_valid: 15000, y_train: 50000, y_valid: 15000\n"
     ]
    }
   ],
   "source": [
    "# Create a sample training and validation data set\n",
    "n = 50_000\n",
    "m = 65_000\n",
    "X_train, X_valid = split_vals2(df_train, n, m)\n",
    "y_train, y_valid = split_vals2(y, n, m)\n",
    "\n",
    "print(F'X_train: {len(X_train)}, X_valid: {len(X_valid)}, y_train: {len(y_train)}, y_valid: {len(y_valid)}')"
   ]
  },
  {
   "cell_type": "code",
   "execution_count": 109,
   "metadata": {},
   "outputs": [
    {
     "name": "stdout",
     "output_type": "stream",
     "text": [
      "Training until validation scores don't improve for 500 rounds.\n",
      "[200]\ttraining's auc: 0.975373\tvalid_1's auc: 0.903197\n",
      "[400]\ttraining's auc: 0.989792\tvalid_1's auc: 0.910813\n",
      "[600]\ttraining's auc: 0.99714\tvalid_1's auc: 0.917634\n",
      "[800]\ttraining's auc: 0.999423\tvalid_1's auc: 0.922342\n",
      "[1000]\ttraining's auc: 0.999903\tvalid_1's auc: 0.924055\n",
      "[1200]\ttraining's auc: 0.999987\tvalid_1's auc: 0.924778\n",
      "[1400]\ttraining's auc: 0.999999\tvalid_1's auc: 0.925839\n",
      "[1600]\ttraining's auc: 1\tvalid_1's auc: 0.926448\n",
      "[1800]\ttraining's auc: 1\tvalid_1's auc: 0.926727\n",
      "[2000]\ttraining's auc: 1\tvalid_1's auc: 0.926597\n",
      "Early stopping, best iteration is:\n",
      "[1657]\ttraining's auc: 1\tvalid_1's auc: 0.92653\n"
     ]
    }
   ],
   "source": [
    "dtrain = lgb.Dataset(X_train, label=y_train)\n",
    "dvalid = lgb.Dataset(X_valid, label=y_valid)\n",
    "\n",
    "clf = lgb.train(params, dtrain, 10000, valid_sets = [dtrain, dvalid], verbose_eval=200, early_stopping_rounds=500)"
   ]
  },
  {
   "cell_type": "markdown",
   "metadata": {},
   "source": [
    "# Cross validation with TimeSeriesSplit and StratifiedKFold"
   ]
  },
  {
   "cell_type": "markdown",
   "metadata": {},
   "source": [
    "The reference for the following code can be found here: https://www.kaggle.com/davidcairuz/feature-engineering-lightgbm\n",
    "\n",
    "We will try training the model using 2 different kinds of cross validation techniques: Time Series Split and Stratified K Fold. \n",
    "\n",
    "The results on the test set didn't end up being better than when I used my initial validation set. \n",
    "\n",
    "With more time, I would have tried different numbers of folds for each cross validation technique and submitted my results to Kaggle. I did not end up doing this for this competition however. "
   ]
  },
  {
   "cell_type": "markdown",
   "metadata": {},
   "source": [
    "## Cross validation 1: TimeSeriesSplit "
   ]
  },
  {
   "cell_type": "code",
   "execution_count": 15,
   "metadata": {},
   "outputs": [],
   "source": [
    "# TimeSeriesSplit\n",
    "NFOLDS = 5\n",
    "folds = TimeSeriesSplit(n_splits=NFOLDS)"
   ]
  },
  {
   "cell_type": "code",
   "execution_count": null,
   "metadata": {},
   "outputs": [],
   "source": [
    "# Kfold setup\n",
    "columns = df_train.columns\n",
    "splits = folds.split(df_train, y)\n",
    "y_preds = np.zeros(df_test.shape[0])\n",
    "y_oof = np.zeros(df_train.shape[0])\n",
    "score = 0\n",
    "y = df_train_og.sort_values('TransactionDT')['isFraud']\n",
    "\n",
    "feature_importances = pd.DataFrame()\n",
    "feature_importances['feature'] = columns"
   ]
  },
  {
   "cell_type": "code",
   "execution_count": 81,
   "metadata": {},
   "outputs": [
    {
     "name": "stdout",
     "output_type": "stream",
     "text": [
      "Training until validation scores don't improve for 500 rounds.\n",
      "[200]\ttraining's auc: 0.975398\tvalid_1's auc: 0.888969\n",
      "[400]\ttraining's auc: 0.993282\tvalid_1's auc: 0.898068\n",
      "[600]\ttraining's auc: 0.998616\tvalid_1's auc: 0.902809\n",
      "[800]\ttraining's auc: 0.999757\tvalid_1's auc: 0.903349\n",
      "[1000]\ttraining's auc: 0.999962\tvalid_1's auc: 0.903437\n",
      "[1200]\ttraining's auc: 0.999995\tvalid_1's auc: 0.903001\n",
      "Early stopping, best iteration is:\n",
      "[869]\ttraining's auc: 0.999865\tvalid_1's auc: 0.903607\n",
      "Fold 1 | AUC: 0.9036067372632375\n",
      "Training until validation scores don't improve for 500 rounds.\n",
      "[200]\ttraining's auc: 0.974534\tvalid_1's auc: 0.907594\n",
      "[400]\ttraining's auc: 0.991076\tvalid_1's auc: 0.916753\n",
      "[600]\ttraining's auc: 0.99727\tvalid_1's auc: 0.921575\n",
      "[800]\ttraining's auc: 0.999205\tvalid_1's auc: 0.922767\n",
      "[1000]\ttraining's auc: 0.999786\tvalid_1's auc: 0.922391\n",
      "[1200]\ttraining's auc: 0.999947\tvalid_1's auc: 0.921826\n",
      "Early stopping, best iteration is:\n",
      "[797]\ttraining's auc: 0.999189\tvalid_1's auc: 0.92279\n",
      "Fold 2 | AUC: 0.9227904767299213\n",
      "Training until validation scores don't improve for 500 rounds.\n",
      "[200]\ttraining's auc: 0.964211\tvalid_1's auc: 0.895021\n",
      "[400]\ttraining's auc: 0.982684\tvalid_1's auc: 0.904387\n",
      "[600]\ttraining's auc: 0.992685\tvalid_1's auc: 0.910918\n",
      "[800]\ttraining's auc: 0.996848\tvalid_1's auc: 0.913362\n",
      "[1000]\ttraining's auc: 0.998618\tvalid_1's auc: 0.913995\n",
      "[1200]\ttraining's auc: 0.999422\tvalid_1's auc: 0.914355\n",
      "[1400]\ttraining's auc: 0.999771\tvalid_1's auc: 0.913924\n",
      "[1600]\ttraining's auc: 0.999913\tvalid_1's auc: 0.913364\n",
      "Early stopping, best iteration is:\n",
      "[1226]\ttraining's auc: 0.999482\tvalid_1's auc: 0.914416\n",
      "Fold 3 | AUC: 0.9144161749993877\n",
      "Training until validation scores don't improve for 500 rounds.\n",
      "[200]\ttraining's auc: 0.953185\tvalid_1's auc: 0.906547\n",
      "[400]\ttraining's auc: 0.974356\tvalid_1's auc: 0.919152\n",
      "[600]\ttraining's auc: 0.98677\tvalid_1's auc: 0.928271\n",
      "[800]\ttraining's auc: 0.992858\tvalid_1's auc: 0.932163\n",
      "[1000]\ttraining's auc: 0.996053\tvalid_1's auc: 0.933591\n",
      "[1200]\ttraining's auc: 0.997791\tvalid_1's auc: 0.933822\n",
      "[1400]\ttraining's auc: 0.998789\tvalid_1's auc: 0.933454\n",
      "[1600]\ttraining's auc: 0.999314\tvalid_1's auc: 0.93278\n",
      "Early stopping, best iteration is:\n",
      "[1190]\ttraining's auc: 0.997726\tvalid_1's auc: 0.933885\n",
      "Fold 4 | AUC: 0.9338850471904426\n",
      "Training until validation scores don't improve for 500 rounds.\n",
      "[200]\ttraining's auc: 0.948225\tvalid_1's auc: 0.904561\n",
      "[400]\ttraining's auc: 0.969248\tvalid_1's auc: 0.918444\n",
      "[600]\ttraining's auc: 0.982793\tvalid_1's auc: 0.926972\n",
      "[800]\ttraining's auc: 0.989956\tvalid_1's auc: 0.931474\n",
      "[1000]\ttraining's auc: 0.993886\tvalid_1's auc: 0.933682\n",
      "[1200]\ttraining's auc: 0.996172\tvalid_1's auc: 0.934394\n",
      "[1400]\ttraining's auc: 0.997604\tvalid_1's auc: 0.934668\n",
      "[1600]\ttraining's auc: 0.99845\tvalid_1's auc: 0.93505\n",
      "[1800]\ttraining's auc: 0.998968\tvalid_1's auc: 0.934957\n",
      "[2000]\ttraining's auc: 0.999287\tvalid_1's auc: 0.93491\n",
      "Early stopping, best iteration is:\n",
      "[1571]\ttraining's auc: 0.998365\tvalid_1's auc: 0.93514\n",
      "Fold 5 | AUC: 0.9351400819846583\n",
      "\n",
      "Mean AUC = 0.9219677036335295\n",
      "Out of folds AUC = 0.8295756814446366\n"
     ]
    }
   ],
   "source": [
    "for fold_n, (train_index, valid_index) in enumerate(splits):\n",
    "    X_train, X_valid = df_train[columns].iloc[train_index], df_train[columns].iloc[valid_index]\n",
    "    y_train, y_valid = y.iloc[train_index], y.iloc[valid_index]\n",
    "    \n",
    "    dtrain = lgb.Dataset(X_train, label=y_train)\n",
    "    dvalid = lgb.Dataset(X_valid, label=y_valid)\n",
    "\n",
    "    clf = lgb.train(params, dtrain, 10000, valid_sets = [dtrain, dvalid], verbose_eval=200, early_stopping_rounds=500)\n",
    "    \n",
    "    feature_importances[f'fold_{fold_n + 1}'] = clf.feature_importance()\n",
    "    \n",
    "    y_pred_valid = clf.predict(X_valid)\n",
    "    y_oof[valid_index] = y_pred_valid\n",
    "    print(f\"Fold {fold_n + 1} | AUC: {roc_auc_score(y_valid, y_pred_valid)}\")\n",
    "    \n",
    "    score += roc_auc_score(y_valid, y_pred_valid) / NFOLDS\n",
    "    y_preds += clf.predict(df_test) / NFOLDS\n",
    "    \n",
    "    del X_train, X_valid, y_train, y_valid\n",
    "    gc.collect()\n",
    "    \n",
    "print(f\"\\nMean AUC = {score}\")\n",
    "print(f\"Out of folds AUC = {roc_auc_score(y, y_oof)}\")"
   ]
  },
  {
   "cell_type": "markdown",
   "metadata": {},
   "source": [
    "## Cross validation 2: StratifiedKFold"
   ]
  },
  {
   "cell_type": "code",
   "execution_count": 224,
   "metadata": {},
   "outputs": [],
   "source": [
    "NFOLDS = 5\n",
    "folds = StratifiedKFold(n_splits=NFOLDS)"
   ]
  },
  {
   "cell_type": "code",
   "execution_count": 229,
   "metadata": {},
   "outputs": [],
   "source": [
    "columns = df_train.columns\n",
    "splits = folds.split(df_train, y)\n",
    "y_preds = np.zeros(df_test.shape[0])\n",
    "y_oof = np.zeros(df_train.shape[0])\n",
    "score = 0\n",
    "y = df_train_og.sort_values('TransactionDT')['isFraud']\n",
    "\n",
    "feature_importances = pd.DataFrame()\n",
    "feature_importances['feature'] = columns"
   ]
  },
  {
   "cell_type": "code",
   "execution_count": 230,
   "metadata": {},
   "outputs": [
    {
     "name": "stdout",
     "output_type": "stream",
     "text": [
      "Training until validation scores don't improve for 500 rounds.\n",
      "[200]\ttraining's auc: 0.95374\tvalid_1's auc: 0.882492\n",
      "[400]\ttraining's auc: 0.971449\tvalid_1's auc: 0.893088\n",
      "[600]\ttraining's auc: 0.985085\tvalid_1's auc: 0.900604\n",
      "[800]\ttraining's auc: 0.992593\tvalid_1's auc: 0.906529\n",
      "[1000]\ttraining's auc: 0.996345\tvalid_1's auc: 0.909934\n",
      "[1200]\ttraining's auc: 0.99821\tvalid_1's auc: 0.911887\n",
      "[1400]\ttraining's auc: 0.999138\tvalid_1's auc: 0.912406\n",
      "[1600]\ttraining's auc: 0.999578\tvalid_1's auc: 0.911496\n",
      "[1800]\ttraining's auc: 0.999791\tvalid_1's auc: 0.909049\n",
      "Early stopping, best iteration is:\n",
      "[1339]\ttraining's auc: 0.998919\tvalid_1's auc: 0.912508\n",
      "Fold 1 | AUC: 0.9125077439911924\n",
      "Training until validation scores don't improve for 500 rounds.\n",
      "[200]\ttraining's auc: 0.951879\tvalid_1's auc: 0.865478\n",
      "[400]\ttraining's auc: 0.969892\tvalid_1's auc: 0.86197\n",
      "Early stopping, best iteration is:\n",
      "[20]\ttraining's auc: 0.931759\tvalid_1's auc: 0.888944\n",
      "Fold 2 | AUC: 0.8889436348654365\n",
      "Training until validation scores don't improve for 500 rounds.\n",
      "[200]\ttraining's auc: 0.952421\tvalid_1's auc: 0.895663\n",
      "[400]\ttraining's auc: 0.970439\tvalid_1's auc: 0.902791\n",
      "[600]\ttraining's auc: 0.984091\tvalid_1's auc: 0.903173\n",
      "[800]\ttraining's auc: 0.991878\tvalid_1's auc: 0.902896\n",
      "[1000]\ttraining's auc: 0.996008\tvalid_1's auc: 0.895939\n",
      "Early stopping, best iteration is:\n",
      "[532]\ttraining's auc: 0.98016\tvalid_1's auc: 0.904187\n",
      "Fold 3 | AUC: 0.9041866732029269\n",
      "Training until validation scores don't improve for 500 rounds.\n",
      "[200]\ttraining's auc: 0.949968\tvalid_1's auc: 0.917809\n",
      "[400]\ttraining's auc: 0.967401\tvalid_1's auc: 0.928237\n",
      "[600]\ttraining's auc: 0.982163\tvalid_1's auc: 0.93621\n",
      "[800]\ttraining's auc: 0.990997\tvalid_1's auc: 0.940811\n",
      "[1000]\ttraining's auc: 0.995605\tvalid_1's auc: 0.941614\n",
      "[1200]\ttraining's auc: 0.997936\tvalid_1's auc: 0.94085\n",
      "[1400]\ttraining's auc: 0.999057\tvalid_1's auc: 0.940368\n",
      "Early stopping, best iteration is:\n",
      "[980]\ttraining's auc: 0.995269\tvalid_1's auc: 0.941675\n",
      "Fold 4 | AUC: 0.941675458403077\n",
      "Training until validation scores don't improve for 500 rounds.\n",
      "[200]\ttraining's auc: 0.950875\tvalid_1's auc: 0.895001\n",
      "[400]\ttraining's auc: 0.968345\tvalid_1's auc: 0.905844\n",
      "[600]\ttraining's auc: 0.982893\tvalid_1's auc: 0.915013\n",
      "[800]\ttraining's auc: 0.991341\tvalid_1's auc: 0.920479\n",
      "[1000]\ttraining's auc: 0.995739\tvalid_1's auc: 0.923331\n",
      "[1200]\ttraining's auc: 0.997995\tvalid_1's auc: 0.924709\n",
      "[1400]\ttraining's auc: 0.999085\tvalid_1's auc: 0.925688\n",
      "[1600]\ttraining's auc: 0.999582\tvalid_1's auc: 0.926279\n",
      "[1800]\ttraining's auc: 0.999808\tvalid_1's auc: 0.926536\n",
      "[2000]\ttraining's auc: 0.999906\tvalid_1's auc: 0.926895\n",
      "[2200]\ttraining's auc: 0.999954\tvalid_1's auc: 0.927421\n",
      "[2400]\ttraining's auc: 0.999976\tvalid_1's auc: 0.927776\n",
      "[2600]\ttraining's auc: 0.999988\tvalid_1's auc: 0.928074\n",
      "[2800]\ttraining's auc: 0.999994\tvalid_1's auc: 0.928287\n",
      "[3000]\ttraining's auc: 0.999997\tvalid_1's auc: 0.928349\n",
      "[3200]\ttraining's auc: 0.999999\tvalid_1's auc: 0.928413\n",
      "[3400]\ttraining's auc: 1\tvalid_1's auc: 0.928373\n",
      "[3600]\ttraining's auc: 1\tvalid_1's auc: 0.928224\n",
      "[3800]\ttraining's auc: 1\tvalid_1's auc: 0.928054\n",
      "Early stopping, best iteration is:\n",
      "[3303]\ttraining's auc: 0.999999\tvalid_1's auc: 0.928458\n",
      "Fold 5 | AUC: 0.9284576809124298\n",
      "\n",
      "Mean AUC = 0.9151542382750126\n",
      "Out of folds AUC = 0.8094206984827366\n"
     ]
    }
   ],
   "source": [
    "for fold_n, (train_index, valid_index) in enumerate(splits):\n",
    "    X_train, X_valid = df_train[columns].iloc[train_index], df_train[columns].iloc[valid_index]\n",
    "    y_train, y_valid = y.iloc[train_index], y.iloc[valid_index]\n",
    "    \n",
    "    dtrain = lgb.Dataset(X_train, label=y_train)\n",
    "    dvalid = lgb.Dataset(X_valid, label=y_valid)\n",
    "\n",
    "    clf = lgb.train(params, dtrain, 10000, valid_sets = [dtrain, dvalid], verbose_eval=200, early_stopping_rounds=500)\n",
    "    \n",
    "    feature_importances[f'fold_{fold_n + 1}'] = clf.feature_importance()\n",
    "    \n",
    "    y_pred_valid = clf.predict(X_valid)\n",
    "    y_oof[valid_index] = y_pred_valid\n",
    "    print(f\"Fold {fold_n + 1} | AUC: {roc_auc_score(y_valid, y_pred_valid)}\")\n",
    "    \n",
    "    score += roc_auc_score(y_valid, y_pred_valid) / NFOLDS\n",
    "    y_preds += clf.predict(df_test) / NFOLDS\n",
    "    \n",
    "    del X_train, X_valid, y_train, y_valid\n",
    "    gc.collect()\n",
    "    \n",
    "print(f\"\\nMean AUC = {score}\")\n",
    "print(f\"Out of folds AUC = {roc_auc_score(y, y_oof)}\")"
   ]
  },
  {
   "cell_type": "markdown",
   "metadata": {},
   "source": [
    "# Ensembling/Stacking models"
   ]
  },
  {
   "cell_type": "markdown",
   "metadata": {},
   "source": [
    "The reference for the following code and explanations can be found here: https://www.kaggle.com/arthurtok/introduction-to-ensembling-stacking-in-python.\n",
    "\n",
    "---\n",
    "📣 **Insights**\n",
    "\n",
    "For an excellent article on stacking and ensembling, refer to the de-facto Must read article: [Kaggle Ensembling Guide](https://mlwave.com/kaggle-ensembling-guide/).\n",
    "\n",
    "In a nutshell stacking uses as a first-level (base), the predictions of a few basic classifiers and then uses another model at the second-level to predict the output from the earlier first-level predictions. Stacking has been responsible for many Kaggle competition wins. \n",
    "___\n",
    "\n",
    "Here is a very interesting extract of a paper of the creator of stacking: Wolpert (1992) Stacked Generalization:\n",
    "\n",
    "> It is usually desirable that the level 0 generalizers are of all “types”, and not just simple variations of one another (e.g., we want surface-fitters, Turing-machine builders, statistical extrapolators, etc., etc.). In this way all possible ways of examining the learning set and trying to extrapolate from it are being exploited. This is part of what is meant by saying that the level 0 generalizers should “span the space”.\n",
    "\n",
    ">[…] stacked generalization is a means of non-linearly combining generalizers to make a new generalizer, to try to optimally integrate what each of the original generalizers has to say about the learning set. The more each generalizer has to say (which isn’t duplicated in what the other generalizer’s have to say), the better the resultant stacked generalization. \n",
    "\n"
   ]
  },
  {
   "cell_type": "markdown",
   "metadata": {},
   "source": [
    "## Helper Class"
   ]
  },
  {
   "cell_type": "markdown",
   "metadata": {},
   "source": [
    "Here we'll invoke the use of Python's classes to help make it more convenient for us. "
   ]
  },
  {
   "cell_type": "code",
   "execution_count": 225,
   "metadata": {},
   "outputs": [],
   "source": [
    "# Some useful parameters which will come in handy later on\n",
    "ntrain = df_train.shape[0]\n",
    "ntest = df_test.shape[0]\n",
    "SEED = 0 # for reproducibility\n",
    "NFOLDS = 5 # set folds for out-of-fold prediction\n",
    "kf = KFold(n_splits= NFOLDS, random_state=SEED)\n",
    "splits = kf.split(df_train) # new\n",
    "\n",
    "# Class to extend the Sklearn classifier\n",
    "class SklearnHelper(object):\n",
    "    def __init__(self, clf, seed=0, params=None):\n",
    "        params['random_state'] = seed\n",
    "        self.clf = clf(**params)\n",
    "\n",
    "    def train(self, X_train, y_train):\n",
    "        self.clf.fit(X_train, y_train)\n",
    "\n",
    "    def predict(self, x):\n",
    "        return self.clf.predict_proba(x)[:,1]\n",
    "    \n",
    "    def fit(self,x,y):\n",
    "        return self.clf.fit(x,y)\n",
    "    \n",
    "    def feature_importances(self,x,y):\n",
    "        print(self.clf.fit(x,y).feature_importances_)"
   ]
  },
  {
   "cell_type": "markdown",
   "metadata": {},
   "source": [
    "## Out-of-Fold Predictions\n",
    "\n",
    "As alluded to above stacking uses predictions of base classifiers as input for training to a second-level model. However one cannot simply train the base models on the full training data, generate predictions on the full test set and then output these for the second-level training. This runs the risk of your base model predictions already having \"seen\" the test set and therefore overfitting when feeding these predictions."
   ]
  },
  {
   "cell_type": "code",
   "execution_count": 226,
   "metadata": {},
   "outputs": [],
   "source": [
    "def get_oof(clf, X_train, y_train, X_test):\n",
    "    oof_train = np.zeros((ntrain,))\n",
    "    oof_test = np.zeros((ntest,))\n",
    "    oof_test_skf = np.empty((NFOLDS, ntest))\n",
    "\n",
    "    for i, (train_index, test_index) in enumerate(splits):\n",
    "        x_tr = X_train[train_index]\n",
    "        y_tr = y_train[train_index]\n",
    "        x_te = X_train[test_index]\n",
    "\n",
    "        clf.train(x_tr, y_tr)\n",
    "\n",
    "        oof_train[test_index] = clf.predict(x_te)\n",
    "        oof_test_skf[i, :] = clf.predict(X_test)\n",
    "\n",
    "    oof_test[:] = oof_test_skf.mean(axis=0)\n",
    "    return oof_train.reshape(-1, 1), oof_test.reshape(-1, 1)"
   ]
  },
  {
   "cell_type": "markdown",
   "metadata": {},
   "source": [
    "## Generating our base first-level models\n",
    "\n",
    "Let's prepare 3 learning models as our first level classification: Random Forest, Extra Trees, Gradient Boosting. "
   ]
  },
  {
   "cell_type": "code",
   "execution_count": 227,
   "metadata": {},
   "outputs": [],
   "source": [
    "rf_params = {\n",
    "    'n_jobs': -1,\n",
    "    'n_estimators': 100,\n",
    "    'max_depth': 6,\n",
    "    'min_samples_leaf': 2,\n",
    "    'max_features' : 'sqrt',\n",
    "    'verbose': 0\n",
    "}\n",
    "\n",
    "# Extra Trees Parameters\n",
    "et_params = {\n",
    "    'n_jobs': -1,\n",
    "    'n_estimators':100,\n",
    "    #'max_features': 0.5,\n",
    "    'max_depth': 8,\n",
    "    'min_samples_leaf': 2,\n",
    "    'verbose': 0\n",
    "}\n",
    "\n",
    "# Gradient Boosting parameters\n",
    "gb_params = {\n",
    "    'n_estimators': 100,\n",
    "     'max_features': 0.5,\n",
    "    'max_depth': 5,\n",
    "    'min_samples_leaf': 5,\n",
    "    'verbose': 0\n",
    "}"
   ]
  },
  {
   "cell_type": "code",
   "execution_count": 228,
   "metadata": {},
   "outputs": [],
   "source": [
    "# Create 3 objects that represent our 3 models\n",
    "rf = SklearnHelper(clf=RandomForestClassifier, seed=SEED, params=rf_params)\n",
    "et = SklearnHelper(clf=ExtraTreesClassifier, seed=SEED, params=et_params)\n",
    "gb = SklearnHelper(clf=GradientBoostingClassifier, seed=SEED, params=gb_params)"
   ]
  },
  {
   "cell_type": "code",
   "execution_count": 229,
   "metadata": {},
   "outputs": [],
   "source": [
    "# Create Numpy arrays of train, test and target (isFraud) dataframes to feed into our models\n",
    "y_train = df_train_og['isFraud'].ravel()\n",
    "X_train = df_train.values # Creates an array of the train data\n",
    "X_test = df_test.values # Creats an array of the test data"
   ]
  },
  {
   "cell_type": "markdown",
   "metadata": {},
   "source": [
    "## Train our classifiers and generate our first level prediction"
   ]
  },
  {
   "cell_type": "markdown",
   "metadata": {},
   "source": [
    "We now feed the training and test data into our 5 base classifiers and use the Out-of-Fold prediction function we defined earlier to generate our first level predictions."
   ]
  },
  {
   "cell_type": "code",
   "execution_count": 197,
   "metadata": {},
   "outputs": [],
   "source": [
    "# Train our 3 classifiers\n",
    "randf_oof_train, randf_oof_test = get_oof(rf,X_train, y_train, X_test) # Random Forest\n",
    "et_oof_train, et_oof_test = get_oof(et, X_train, y_train, X_test) # Extra Trees\n",
    "gb_oof_train, gb_oof_test = get_oof(gb,X_train, y_train, X_test) # Gradient Boost"
   ]
  },
  {
   "cell_type": "markdown",
   "metadata": {},
   "source": [
    "## Second-level predictions from the first-level output\n"
   ]
  },
  {
   "cell_type": "markdown",
   "metadata": {},
   "source": [
    "We are having as our new columns the first-level predictions from our earlier classifiers and we train the next classifier on this."
   ]
  },
  {
   "cell_type": "code",
   "execution_count": 235,
   "metadata": {},
   "outputs": [],
   "source": [
    "base_predictions_train = pd.DataFrame( {'RandomForest': randf_oof_train.ravel(),\n",
    "     'ExtraTrees': et_oof_train.ravel(),\n",
    "      'GradientBoost': gb_oof_train.ravel()\n",
    "    })"
   ]
  },
  {
   "cell_type": "code",
   "execution_count": 236,
   "metadata": {},
   "outputs": [
    {
     "data": {
      "text/html": [
       "<div>\n",
       "<style scoped>\n",
       "    .dataframe tbody tr th:only-of-type {\n",
       "        vertical-align: middle;\n",
       "    }\n",
       "\n",
       "    .dataframe tbody tr th {\n",
       "        vertical-align: top;\n",
       "    }\n",
       "\n",
       "    .dataframe thead th {\n",
       "        text-align: right;\n",
       "    }\n",
       "</style>\n",
       "<table border=\"1\" class=\"dataframe\">\n",
       "  <thead>\n",
       "    <tr style=\"text-align: right;\">\n",
       "      <th></th>\n",
       "      <th>RandomForest</th>\n",
       "      <th>ExtraTrees</th>\n",
       "      <th>GradientBoost</th>\n",
       "    </tr>\n",
       "  </thead>\n",
       "  <tbody>\n",
       "    <tr>\n",
       "      <td>0</td>\n",
       "      <td>0.035713</td>\n",
       "      <td>0.042941</td>\n",
       "      <td>0.033789</td>\n",
       "    </tr>\n",
       "    <tr>\n",
       "      <td>1</td>\n",
       "      <td>0.018891</td>\n",
       "      <td>0.035888</td>\n",
       "      <td>0.024017</td>\n",
       "    </tr>\n",
       "    <tr>\n",
       "      <td>2</td>\n",
       "      <td>0.017327</td>\n",
       "      <td>0.020838</td>\n",
       "      <td>0.018982</td>\n",
       "    </tr>\n",
       "    <tr>\n",
       "      <td>3</td>\n",
       "      <td>0.066818</td>\n",
       "      <td>0.035453</td>\n",
       "      <td>0.050022</td>\n",
       "    </tr>\n",
       "    <tr>\n",
       "      <td>4</td>\n",
       "      <td>0.032791</td>\n",
       "      <td>0.054380</td>\n",
       "      <td>0.025724</td>\n",
       "    </tr>\n",
       "    <tr>\n",
       "      <td>...</td>\n",
       "      <td>...</td>\n",
       "      <td>...</td>\n",
       "      <td>...</td>\n",
       "    </tr>\n",
       "    <tr>\n",
       "      <td>590535</td>\n",
       "      <td>0.017764</td>\n",
       "      <td>0.037241</td>\n",
       "      <td>0.015711</td>\n",
       "    </tr>\n",
       "    <tr>\n",
       "      <td>590536</td>\n",
       "      <td>0.017590</td>\n",
       "      <td>0.024020</td>\n",
       "      <td>0.017706</td>\n",
       "    </tr>\n",
       "    <tr>\n",
       "      <td>590537</td>\n",
       "      <td>0.013963</td>\n",
       "      <td>0.010343</td>\n",
       "      <td>0.013736</td>\n",
       "    </tr>\n",
       "    <tr>\n",
       "      <td>590538</td>\n",
       "      <td>0.051332</td>\n",
       "      <td>0.053787</td>\n",
       "      <td>0.046826</td>\n",
       "    </tr>\n",
       "    <tr>\n",
       "      <td>590539</td>\n",
       "      <td>0.023820</td>\n",
       "      <td>0.022965</td>\n",
       "      <td>0.021783</td>\n",
       "    </tr>\n",
       "  </tbody>\n",
       "</table>\n",
       "<p>590540 rows × 3 columns</p>\n",
       "</div>"
      ],
      "text/plain": [
       "        RandomForest  ExtraTrees  GradientBoost\n",
       "0           0.035713    0.042941       0.033789\n",
       "1           0.018891    0.035888       0.024017\n",
       "2           0.017327    0.020838       0.018982\n",
       "3           0.066818    0.035453       0.050022\n",
       "4           0.032791    0.054380       0.025724\n",
       "...              ...         ...            ...\n",
       "590535      0.017764    0.037241       0.015711\n",
       "590536      0.017590    0.024020       0.017706\n",
       "590537      0.013963    0.010343       0.013736\n",
       "590538      0.051332    0.053787       0.046826\n",
       "590539      0.023820    0.022965       0.021783\n",
       "\n",
       "[590540 rows x 3 columns]"
      ]
     },
     "execution_count": 236,
     "metadata": {},
     "output_type": "execute_result"
    }
   ],
   "source": [
    "base_predictions_train"
   ]
  },
  {
   "cell_type": "code",
   "execution_count": 246,
   "metadata": {},
   "outputs": [],
   "source": [
    "X_train = np.concatenate(( et_oof_train, randf_oof_train, gb_oof_train), axis=1) \n",
    "X_test = np.concatenate(( et_oof_test, randf_oof_test, gb_oof_test), axis=1) "
   ]
  },
  {
   "cell_type": "markdown",
   "metadata": {},
   "source": [
    "Having now concatenated and joined both the first-level train and test predictions as x_train and x_test, we can now fit a second-level learning model."
   ]
  },
  {
   "cell_type": "code",
   "execution_count": 252,
   "metadata": {},
   "outputs": [],
   "source": [
    "df_stack1_train = pd.DataFrame(X_train, columns=['ExtraTrees', 'RandomForest', 'GradientBoost'])\n",
    "df_stack1_test = pd.DataFrame(X_test, columns=['ExtraTrees', 'RandomForest', 'GradientBoost'])"
   ]
  },
  {
   "cell_type": "code",
   "execution_count": 256,
   "metadata": {},
   "outputs": [
    {
     "data": {
      "text/html": [
       "<div>\n",
       "<style scoped>\n",
       "    .dataframe tbody tr th:only-of-type {\n",
       "        vertical-align: middle;\n",
       "    }\n",
       "\n",
       "    .dataframe tbody tr th {\n",
       "        vertical-align: top;\n",
       "    }\n",
       "\n",
       "    .dataframe thead th {\n",
       "        text-align: right;\n",
       "    }\n",
       "</style>\n",
       "<table border=\"1\" class=\"dataframe\">\n",
       "  <thead>\n",
       "    <tr style=\"text-align: right;\">\n",
       "      <th></th>\n",
       "      <th>ExtraTrees</th>\n",
       "      <th>RandomForest</th>\n",
       "      <th>GradientBoost</th>\n",
       "    </tr>\n",
       "  </thead>\n",
       "  <tbody>\n",
       "    <tr>\n",
       "      <td>0</td>\n",
       "      <td>0.011688</td>\n",
       "      <td>0.014909</td>\n",
       "      <td>0.014506</td>\n",
       "    </tr>\n",
       "    <tr>\n",
       "      <td>1</td>\n",
       "      <td>0.020979</td>\n",
       "      <td>0.017629</td>\n",
       "      <td>0.018097</td>\n",
       "    </tr>\n",
       "    <tr>\n",
       "      <td>2</td>\n",
       "      <td>0.024601</td>\n",
       "      <td>0.017673</td>\n",
       "      <td>0.017714</td>\n",
       "    </tr>\n",
       "    <tr>\n",
       "      <td>3</td>\n",
       "      <td>0.010447</td>\n",
       "      <td>0.014300</td>\n",
       "      <td>0.014226</td>\n",
       "    </tr>\n",
       "    <tr>\n",
       "      <td>4</td>\n",
       "      <td>0.012471</td>\n",
       "      <td>0.015959</td>\n",
       "      <td>0.014018</td>\n",
       "    </tr>\n",
       "    <tr>\n",
       "      <td>...</td>\n",
       "      <td>...</td>\n",
       "      <td>...</td>\n",
       "      <td>...</td>\n",
       "    </tr>\n",
       "    <tr>\n",
       "      <td>506686</td>\n",
       "      <td>0.036896</td>\n",
       "      <td>0.029405</td>\n",
       "      <td>0.019036</td>\n",
       "    </tr>\n",
       "    <tr>\n",
       "      <td>506687</td>\n",
       "      <td>0.063107</td>\n",
       "      <td>0.040528</td>\n",
       "      <td>0.023319</td>\n",
       "    </tr>\n",
       "    <tr>\n",
       "      <td>506688</td>\n",
       "      <td>0.020996</td>\n",
       "      <td>0.016918</td>\n",
       "      <td>0.017431</td>\n",
       "    </tr>\n",
       "    <tr>\n",
       "      <td>506689</td>\n",
       "      <td>0.021273</td>\n",
       "      <td>0.016918</td>\n",
       "      <td>0.017431</td>\n",
       "    </tr>\n",
       "    <tr>\n",
       "      <td>506690</td>\n",
       "      <td>0.097055</td>\n",
       "      <td>0.037815</td>\n",
       "      <td>0.026592</td>\n",
       "    </tr>\n",
       "  </tbody>\n",
       "</table>\n",
       "<p>506691 rows × 3 columns</p>\n",
       "</div>"
      ],
      "text/plain": [
       "        ExtraTrees  RandomForest  GradientBoost\n",
       "0         0.011688      0.014909       0.014506\n",
       "1         0.020979      0.017629       0.018097\n",
       "2         0.024601      0.017673       0.017714\n",
       "3         0.010447      0.014300       0.014226\n",
       "4         0.012471      0.015959       0.014018\n",
       "...            ...           ...            ...\n",
       "506686    0.036896      0.029405       0.019036\n",
       "506687    0.063107      0.040528       0.023319\n",
       "506688    0.020996      0.016918       0.017431\n",
       "506689    0.021273      0.016918       0.017431\n",
       "506690    0.097055      0.037815       0.026592\n",
       "\n",
       "[506691 rows x 3 columns]"
      ]
     },
     "execution_count": 256,
     "metadata": {},
     "output_type": "execute_result"
    }
   ],
   "source": [
    "df_stack1_test"
   ]
  },
  {
   "cell_type": "code",
   "execution_count": 262,
   "metadata": {},
   "outputs": [
    {
     "name": "stdout",
     "output_type": "stream",
     "text": [
      "X_train: 500000, X_valid: 90540, y_train: 500000, y_valid: 90540\n"
     ]
    }
   ],
   "source": [
    "# Create validation set using df_stack1_train\n",
    "n = 500_000\n",
    "X_train, X_valid = split_vals(df_stack1_train, n)\n",
    "y_train, y_valid = split_vals(y, n)\n",
    "\n",
    "print(F'X_train: {len(X_train)}, X_valid: {len(X_valid)}, y_train: {len(y_train)}, y_valid: {len(y_valid)}')"
   ]
  },
  {
   "cell_type": "code",
   "execution_count": 273,
   "metadata": {},
   "outputs": [
    {
     "name": "stdout",
     "output_type": "stream",
     "text": [
      "Training until validation scores don't improve for 500 rounds.\n",
      "[200]\ttraining's auc: 0.893422\tvalid_1's auc: 0.856989\n",
      "[400]\ttraining's auc: 0.906715\tvalid_1's auc: 0.856129\n",
      "[600]\ttraining's auc: 0.915281\tvalid_1's auc: 0.854546\n",
      "Early stopping, best iteration is:\n",
      "[110]\ttraining's auc: 0.884951\tvalid_1's auc: 0.857647\n"
     ]
    }
   ],
   "source": [
    "dtrain = lgb.Dataset(X_train, label=y_train)\n",
    "dvalid = lgb.Dataset(X_valid, label=y_valid)\n",
    "\n",
    "clf = lgb.train(params, dtrain, 10000, valid_sets = [dtrain, dvalid], verbose_eval=200, early_stopping_rounds=500)"
   ]
  },
  {
   "cell_type": "markdown",
   "metadata": {},
   "source": [
    "I wasn't able to get a good AUC score using this technique. This is because I had too few base models and that they weren't very good to begin with.  "
   ]
  },
  {
   "cell_type": "markdown",
   "metadata": {},
   "source": [
    "# Easy ensembling with weighted average"
   ]
  },
  {
   "cell_type": "markdown",
   "metadata": {},
   "source": [
    "**Easy ensembling**: the most basic and convenient way to ensemble is to ensemble Kaggle submission CSV files. We only need the predictions on the test set for these methods — no need to retrain a model. This makes it a quick way to ensemble already existing model predictions. Here we'll use a simple weighted average of our best submissions. \n",
    "\n",
    "> Weighting and averaging prediction files easy, but it’s not the only method that the top Kagglers are using. The serious gains start with stacking and blending. This is not included as it is an advanced technique that I have yet to try out. "
   ]
  },
  {
   "cell_type": "code",
   "execution_count": null,
   "metadata": {},
   "outputs": [],
   "source": [
    "df0 = pd.read_csv('julienbeaulieu_submission5_fullcols.csv')\n",
    "df1 = pd.read_csv('julienbeaulieu_submission7.csv')\n",
    "df2 = pd.read_csv('julienbeaulieu_submission8_noTransactionID.csv')\n",
    "df3 = pd.read_csv('julienbeaulieu_submission11.csv')\n",
    "df4 = pd.read_csv('julienbeaulieu_submission12.csv')\n",
    "df5 = pd.read_csv('julienbeaulieu_submission13.csv')\n",
    "df6 = pd.read_csv('julienbeaulieu_submission17.csv')\n",
    "df7 = pd.read_csv('julienbeaulieu_submission18.csv')"
   ]
  },
  {
   "cell_type": "code",
   "execution_count": null,
   "metadata": {},
   "outputs": [],
   "source": [
    "blend1 = df0['isFraud']*0.12 + df1['isFraud']*0.12 + df2['isFraud']*0.12 + df3['isFraud']*0.16 +\\\n",
    "            df4['isFraud']*0.12 + df5['isFraud']*0.12 + df6['isFraud']*0.12 + df7['isFraud']*0.12"
   ]
  },
  {
   "cell_type": "code",
   "execution_count": 255,
   "metadata": {},
   "outputs": [],
   "source": [
    "blend = pd.DataFrame(blend1, columns=['isFraud'])\n",
    "blend.insert(0, 'TransactionID', df0['TransactionID'])"
   ]
  },
  {
   "cell_type": "code",
   "execution_count": 258,
   "metadata": {},
   "outputs": [
    {
     "data": {
      "text/html": [
       "<div>\n",
       "<style scoped>\n",
       "    .dataframe tbody tr th:only-of-type {\n",
       "        vertical-align: middle;\n",
       "    }\n",
       "\n",
       "    .dataframe tbody tr th {\n",
       "        vertical-align: top;\n",
       "    }\n",
       "\n",
       "    .dataframe thead th {\n",
       "        text-align: right;\n",
       "    }\n",
       "</style>\n",
       "<table border=\"1\" class=\"dataframe\">\n",
       "  <thead>\n",
       "    <tr style=\"text-align: right;\">\n",
       "      <th></th>\n",
       "      <th>TransactionID</th>\n",
       "      <th>isFraud</th>\n",
       "    </tr>\n",
       "  </thead>\n",
       "  <tbody>\n",
       "    <tr>\n",
       "      <td>0</td>\n",
       "      <td>3663549</td>\n",
       "      <td>0.001072</td>\n",
       "    </tr>\n",
       "    <tr>\n",
       "      <td>1</td>\n",
       "      <td>3663550</td>\n",
       "      <td>0.001469</td>\n",
       "    </tr>\n",
       "    <tr>\n",
       "      <td>2</td>\n",
       "      <td>3663551</td>\n",
       "      <td>0.002976</td>\n",
       "    </tr>\n",
       "    <tr>\n",
       "      <td>3</td>\n",
       "      <td>3663552</td>\n",
       "      <td>0.001571</td>\n",
       "    </tr>\n",
       "    <tr>\n",
       "      <td>4</td>\n",
       "      <td>3663553</td>\n",
       "      <td>0.001565</td>\n",
       "    </tr>\n",
       "    <tr>\n",
       "      <td>...</td>\n",
       "      <td>...</td>\n",
       "      <td>...</td>\n",
       "    </tr>\n",
       "    <tr>\n",
       "      <td>506686</td>\n",
       "      <td>4170235</td>\n",
       "      <td>0.011621</td>\n",
       "    </tr>\n",
       "    <tr>\n",
       "      <td>506687</td>\n",
       "      <td>4170236</td>\n",
       "      <td>0.003893</td>\n",
       "    </tr>\n",
       "    <tr>\n",
       "      <td>506688</td>\n",
       "      <td>4170237</td>\n",
       "      <td>0.002303</td>\n",
       "    </tr>\n",
       "    <tr>\n",
       "      <td>506689</td>\n",
       "      <td>4170238</td>\n",
       "      <td>0.004137</td>\n",
       "    </tr>\n",
       "    <tr>\n",
       "      <td>506690</td>\n",
       "      <td>4170239</td>\n",
       "      <td>0.002812</td>\n",
       "    </tr>\n",
       "  </tbody>\n",
       "</table>\n",
       "<p>506691 rows × 2 columns</p>\n",
       "</div>"
      ],
      "text/plain": [
       "        TransactionID   isFraud\n",
       "0             3663549  0.001072\n",
       "1             3663550  0.001469\n",
       "2             3663551  0.002976\n",
       "3             3663552  0.001571\n",
       "4             3663553  0.001565\n",
       "...               ...       ...\n",
       "506686        4170235  0.011621\n",
       "506687        4170236  0.003893\n",
       "506688        4170237  0.002303\n",
       "506689        4170238  0.004137\n",
       "506690        4170239  0.002812\n",
       "\n",
       "[506691 rows x 2 columns]"
      ]
     },
     "execution_count": 258,
     "metadata": {},
     "output_type": "execute_result"
    }
   ],
   "source": [
    "blend"
   ]
  },
  {
   "cell_type": "code",
   "execution_count": null,
   "metadata": {},
   "outputs": [],
   "source": [
    "# create submission file\n",
    "blend.to_csv('julienbeaulieu_submission26.csv', index=False)"
   ]
  },
  {
   "cell_type": "markdown",
   "metadata": {},
   "source": [
    "# Producing the Submission file"
   ]
  },
  {
   "cell_type": "code",
   "execution_count": 232,
   "metadata": {},
   "outputs": [],
   "source": [
    "ids = df_trans_test.TransactionID.values\n",
    "prob_test = clf.predict(df_test)"
   ]
  },
  {
   "cell_type": "code",
   "execution_count": 233,
   "metadata": {},
   "outputs": [],
   "source": [
    "submit = pd.DataFrame()\n",
    "submit['TransactionID'] = ids\n",
    "submit['isFraud'] = prob_test # y_preds"
   ]
  },
  {
   "cell_type": "code",
   "execution_count": 234,
   "metadata": {},
   "outputs": [
    {
     "data": {
      "text/html": [
       "<div>\n",
       "<style scoped>\n",
       "    .dataframe tbody tr th:only-of-type {\n",
       "        vertical-align: middle;\n",
       "    }\n",
       "\n",
       "    .dataframe tbody tr th {\n",
       "        vertical-align: top;\n",
       "    }\n",
       "\n",
       "    .dataframe thead th {\n",
       "        text-align: right;\n",
       "    }\n",
       "</style>\n",
       "<table border=\"1\" class=\"dataframe\">\n",
       "  <thead>\n",
       "    <tr style=\"text-align: right;\">\n",
       "      <th></th>\n",
       "      <th>TransactionID</th>\n",
       "      <th>isFraud</th>\n",
       "    </tr>\n",
       "  </thead>\n",
       "  <tbody>\n",
       "    <tr>\n",
       "      <td>0</td>\n",
       "      <td>3663549</td>\n",
       "      <td>0.000064</td>\n",
       "    </tr>\n",
       "    <tr>\n",
       "      <td>1</td>\n",
       "      <td>3663550</td>\n",
       "      <td>0.000050</td>\n",
       "    </tr>\n",
       "    <tr>\n",
       "      <td>2</td>\n",
       "      <td>3663551</td>\n",
       "      <td>0.000154</td>\n",
       "    </tr>\n",
       "    <tr>\n",
       "      <td>3</td>\n",
       "      <td>3663552</td>\n",
       "      <td>0.000090</td>\n",
       "    </tr>\n",
       "    <tr>\n",
       "      <td>4</td>\n",
       "      <td>3663553</td>\n",
       "      <td>0.000168</td>\n",
       "    </tr>\n",
       "    <tr>\n",
       "      <td>...</td>\n",
       "      <td>...</td>\n",
       "      <td>...</td>\n",
       "    </tr>\n",
       "    <tr>\n",
       "      <td>506686</td>\n",
       "      <td>4170235</td>\n",
       "      <td>0.000705</td>\n",
       "    </tr>\n",
       "    <tr>\n",
       "      <td>506687</td>\n",
       "      <td>4170236</td>\n",
       "      <td>0.000222</td>\n",
       "    </tr>\n",
       "    <tr>\n",
       "      <td>506688</td>\n",
       "      <td>4170237</td>\n",
       "      <td>0.000192</td>\n",
       "    </tr>\n",
       "    <tr>\n",
       "      <td>506689</td>\n",
       "      <td>4170238</td>\n",
       "      <td>0.000227</td>\n",
       "    </tr>\n",
       "    <tr>\n",
       "      <td>506690</td>\n",
       "      <td>4170239</td>\n",
       "      <td>0.000162</td>\n",
       "    </tr>\n",
       "  </tbody>\n",
       "</table>\n",
       "<p>506691 rows × 2 columns</p>\n",
       "</div>"
      ],
      "text/plain": [
       "        TransactionID   isFraud\n",
       "0             3663549  0.000064\n",
       "1             3663550  0.000050\n",
       "2             3663551  0.000154\n",
       "3             3663552  0.000090\n",
       "4             3663553  0.000168\n",
       "...               ...       ...\n",
       "506686        4170235  0.000705\n",
       "506687        4170236  0.000222\n",
       "506688        4170237  0.000192\n",
       "506689        4170238  0.000227\n",
       "506690        4170239  0.000162\n",
       "\n",
       "[506691 rows x 2 columns]"
      ]
     },
     "execution_count": 234,
     "metadata": {},
     "output_type": "execute_result"
    }
   ],
   "source": [
    "# View the first lines of the submission DataFrame\n",
    "submit"
   ]
  },
  {
   "cell_type": "code",
   "execution_count": 235,
   "metadata": {},
   "outputs": [],
   "source": [
    "submit.to_csv('julienbeaulieu_submission24.csv', index=False)"
   ]
  },
  {
   "cell_type": "markdown",
   "metadata": {},
   "source": [
    "# Limitations and going further"
   ]
  },
  {
   "cell_type": "markdown",
   "metadata": {},
   "source": [
    "This notebook was created thanks for a lot of other notebooks, forum discussion and code from the Introduction to Machine Learning for Coders Fastai course. \n",
    "\n",
    "While my final score for this competition wasn't great, I am convinced that with more effort I could have improved it.\n",
    "\n",
    "Here are some ideas to implement to improve the work:\n",
    "\n",
    "- Adding external sources of data to enrich the current data set.\n",
    "- Better exploratory data analysis to have a better understanding of the data. My feature engineering would have been better as a result.  \n",
    "- Better feature selection - I opted to take all the features above 80 feature importance in my LGBM model. I could have tried different feature importance thresholds and different stepwise techniques for choosing features.  \n",
    "- Ensemble stacking:\n",
    "    - Adding a much more varied number of algorithms in the first level such as Neural Nets, SVM, KNN, etc. \n",
    "    - My base models for XGBoost, Random Forests, and Extra Trees in the first level were not very good. More time could have been spent optimizing them before the stacking procedure. \n",
    "- Using techniques to better deal with the imbalanced dataset - over & undersampling. \n",
    "- Standardizing the dataset made results worse. I didn't dig deeply as to why and if I was doing it correctly. \n",
    "- Cross validation: Trying a different numbers of folds for each cross validation technique. I only tried with 5 folds for both TimeSeriesSplit and StratifiedKFold. \n",
    "- Combining crossvalidation, stacking and blending for the ultimate model. "
   ]
  },
  {
   "cell_type": "code",
   "execution_count": null,
   "metadata": {},
   "outputs": [],
   "source": []
  }
 ],
 "metadata": {
  "kernelspec": {
   "display_name": "Python 3",
   "language": "python",
   "name": "python3"
  },
  "language_info": {
   "codemirror_mode": {
    "name": "ipython",
    "version": 3
   },
   "file_extension": ".py",
   "mimetype": "text/x-python",
   "name": "python",
   "nbconvert_exporter": "python",
   "pygments_lexer": "ipython3",
   "version": "3.7.3"
  },
  "toc": {
   "base_numbering": 1,
   "nav_menu": {},
   "number_sections": true,
   "sideBar": true,
   "skip_h1_title": false,
   "title_cell": "Table of Contents",
   "title_sidebar": "Contents",
   "toc_cell": false,
   "toc_position": {},
   "toc_section_display": true,
   "toc_window_display": false
  }
 },
 "nbformat": 4,
 "nbformat_minor": 2
}
